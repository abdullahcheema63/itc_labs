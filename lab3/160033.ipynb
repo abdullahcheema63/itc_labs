{
 "cells": [
  {
   "cell_type": "code",
   "execution_count": null,
   "metadata": {
    "collapsed": false
   },
   "outputs": [],
   "source": [
    "#question_3\n",
    "inputTime=input(\"Enter time in hours: \")\n",
    "numberOfHours=input(\"Enter the number of hours to ring alarm at: \")\n",
    "alarmRing=(inputTime+numberOfHours)%24\n",
    "print(alarmRing)"
   ]
  },
  {
   "cell_type": "code",
   "execution_count": null,
   "metadata": {
    "collapsed": false
   },
   "outputs": [],
   "source": [
    "#question_4\n",
    "initDays=input(\"enter the number of day to start holiday: \")\n",
    "numberOfDaysOfHolidays=input(\"Enter the number of days of holiday ypu will spend\")\n",
    "returnDay=(initDays+numberOfDaysOfHolidays)%7\n",
    "print(returnDay)"
   ]
  },
  {
   "cell_type": "code",
   "execution_count": null,
   "metadata": {
    "collapsed": false
   },
   "outputs": [],
   "source": [
    "#question_5\n",
    "word1=\"All \"\n",
    "word2=\"work \"\n",
    "word3=\"and \"\n",
    "word4=\"no \"\n",
    "word5=\"play \"\n",
    "word6=\"makes \"\n",
    "word7=\"Ahmad \"\n",
    "word8=\"a \"\n",
    "word9=\"dull \"\n",
    "word10=\"boy\"\n",
    "print(word1+word2+word3+word4+word5+word6+word7+word8+word9+word10)"
   ]
  },
  {
   "cell_type": "code",
   "execution_count": null,
   "metadata": {
    "collapsed": false
   },
   "outputs": [],
   "source": [
    "#question_6\n",
    "initInvestment=10000\n",
    "numberOfCompundYears=12\n",
    "interestRate=0.08\n",
    "numberOfInputYears=input(\"enter number of years: \")\n",
    "finalAmmount=initInvestment*((1+(interestRate/numberOfCompundYears))**(numberOfCompundYears*numberOfInputYears))\n",
    "print(finalAmmount)"
   ]
  },
  {
   "cell_type": "code",
   "execution_count": null,
   "metadata": {
    "collapsed": false
   },
   "outputs": [],
   "source": [
    "#question_7\n",
    "length=input(\"Enter the length: \")\n",
    "width=input(\"Enter the width: \")\n",
    "area=str (length *width)\n",
    "print (\"the area is \"+area)"
   ]
  },
  {
   "cell_type": "code",
   "execution_count": null,
   "metadata": {
    "collapsed": false,
    "scrolled": true
   },
   "outputs": [],
   "source": [
    "#question_8\n",
    "radius=input(\"enter the number: \")\n",
    "area=(22/7)*((radius)**2)\n",
    "print(area)"
   ]
  },
  {
   "cell_type": "code",
   "execution_count": 2,
   "metadata": {
    "collapsed": false,
    "scrolled": true
   },
   "outputs": [
    {
     "name": "stdout",
     "output_type": "stream",
     "text": [
      "enter number of miles: 15\n",
      "enter the number of litres: 2\n",
      "the miles per litre ofcar is 7\n"
     ]
    }
   ],
   "source": [
    "#question_9\n",
    "miles=input(\"enter number of miles: \")\n",
    "litres=input(\"enter the number of litres: \")\n",
    "mpl=str (miles/litres)\n",
    "print(\"the miles per litre ofcar is \"+mpl)"
   ]
  }
 ],
 "metadata": {
  "kernelspec": {
   "display_name": "Python [Root]",
   "language": "python",
   "name": "Python [Root]"
  },
  "language_info": {
   "codemirror_mode": {
    "name": "ipython",
    "version": 2
   },
   "file_extension": ".py",
   "mimetype": "text/x-python",
   "name": "python",
   "nbconvert_exporter": "python",
   "pygments_lexer": "ipython2",
   "version": "2.7.12"
  }
 },
 "nbformat": 4,
 "nbformat_minor": 0
}
