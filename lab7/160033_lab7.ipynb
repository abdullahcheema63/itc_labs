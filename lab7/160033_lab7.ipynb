{
 "cells": [
  {
   "cell_type": "code",
   "execution_count": null,
   "metadata": {
    "collapsed": false
   },
   "outputs": [],
   "source": [
    "#question_1\n",
    "while True:\n",
    "    sales=input(\"enter sales in rupees(negative values to exit: \")\n",
    "    salary=2000+(0.09*sales)\n",
    "    if sales>=0:\n",
    "        print salary\n",
    "        continue\n",
    "    elif sales<0:\n",
    "        break\n"
   ]
  },
  {
   "cell_type": "code",
   "execution_count": null,
   "metadata": {
    "collapsed": false
   },
   "outputs": [],
   "source": [
    "#question_2\n",
    "x=input()\n",
    "y=1\n",
    "output=\"\"\n",
    "while y<x:\n",
    "    output+=str(y)+\",\"\n",
    "    y+=1\n",
    "while y>0:\n",
    "    output+=str(y)+\",\"\n",
    "    y-=1\n",
    "print output"
   ]
  },
  {
   "cell_type": "code",
   "execution_count": 18,
   "metadata": {
    "collapsed": false
   },
   "outputs": [
    {
     "name": "stdout",
     "output_type": "stream",
     "text": [
      "5\n",
      "24.381\n"
     ]
    }
   ],
   "source": [
    "#question_3\n",
    "summ1=5\n",
    "summ2=-10\n",
    "number=input()/2\n",
    "count1=1\n",
    "count2=1\n",
    "while count1<number:\n",
    "    summ1+=(5+(2*count))\n",
    "    count1+=1\n",
    "while count2<number:\n",
    "    summ2+=(((-1)**(count2+1))*(10+(5*count2)))\n",
    "    count2+=1\n",
    "print summ1+summ2\n",
    "\n"
   ]
  },
  {
   "cell_type": "code",
   "execution_count": 9,
   "metadata": {
    "collapsed": false
   },
   "outputs": [
    {
     "ename": "SyntaxError",
     "evalue": "invalid syntax (<ipython-input-9-13ff4d7ecd69>, line 6)",
     "output_type": "error",
     "traceback": [
      "\u001b[1;36m  File \u001b[1;32m\"<ipython-input-9-13ff4d7ecd69>\"\u001b[1;36m, line \u001b[1;32m6\u001b[0m\n\u001b[1;33m    print %.4f' % count\u001b[0m\n\u001b[1;37m          ^\u001b[0m\n\u001b[1;31mSyntaxError\u001b[0m\u001b[1;31m:\u001b[0m invalid syntax\n"
     ]
    }
   ],
   "source": [
    "#question_4\n",
    "number=input()\n",
    "count=0\n",
    "while (count*count)<=(number):\n",
    "    count+=0.0001\n",
    "print  count"
   ]
  },
  {
   "cell_type": "code",
   "execution_count": null,
   "metadata": {
    "collapsed": false
   },
   "outputs": [],
   "source": [
    "#question_5\n",
    "first=1\n",
    "second=1\n",
    "number=input(\"please enter which element to print: \")\n",
    "count=0\n",
    "while count<number-2:\n",
    "    temp=second\n",
    "    second+=first\n",
    "    first=temp\n",
    "    count+=1\n",
    "print second"
   ]
  },
  {
   "cell_type": "code",
   "execution_count": null,
   "metadata": {
    "collapsed": false
   },
   "outputs": [],
   "source": [
    "#question_6\n",
    "initial=2500\n",
    "count=0\n",
    "while count<6:\n",
    "    print initial\n",
    "    initial+=0.04*initial\n",
    "    count+=1"
   ]
  },
  {
   "cell_type": "code",
   "execution_count": null,
   "metadata": {
    "collapsed": false
   },
   "outputs": [],
   "source": [
    "#question_7\n",
    "laptop_price=30000\n",
    "savings=5000\n",
    "month=0\n",
    "while True:\n",
    "    laptop_price+=0.02*laptop_price\n",
    "    savings+=0.07*savings\n",
    "    month+=1\n",
    "    if round(savings)>=round(laptop_price):\n",
    "        break\n",
    "print month"
   ]
  },
  {
   "cell_type": "code",
   "execution_count": null,
   "metadata": {
    "collapsed": false
   },
   "outputs": [],
   "source": [
    "#question_8\n",
    "attempts=5\n",
    "while True:\n",
    "    inp=input(\"please enter a number: \")\n",
    "    if inp%6==0:\n",
    "        break\n",
    "    else:\n",
    "        print \"try again\"\n",
    "        attempts-=1\n",
    "    if attempts==0:\n",
    "        print \"attempts reached\"\n",
    "        break\n",
    "count=0\n",
    "summ=0\n",
    "while count<inp:\n",
    "    summ+=(((-1)**(count))*(count+1))\n",
    "    count+=1\n",
    "print summ"
   ]
  },
  {
   "cell_type": "code",
   "execution_count": null,
   "metadata": {
    "collapsed": false
   },
   "outputs": [],
   "source": [
    "#question_9\n",
    "output=\"\"\n",
    "length=input(\"enter the length: \")\n",
    "width=input(\"enter the width: \")-2\n",
    "print_length=length\n",
    "while print_length>0:\n",
    "    output+=\"*\"\n",
    "    print_length-=1\n",
    "output+=\"\\n\"\n",
    "#print \"*\"*length\n",
    "while width>0:\n",
    "    output+=\"*\"\n",
    "    print_width=length-2\n",
    "    while print_width>0:\n",
    "        output+=\" \"\n",
    "        print_width-=1\n",
    "    #print \"*\"+(\" \"*(length-2))+\"*\"\n",
    "    output+=\"*\"\n",
    "    output+=\"\\n\"\n",
    "    width-=1\n",
    "\n",
    "print_length=length\n",
    "while print_length>0:\n",
    "    output+=\"*\"\n",
    "    print_length-=1\n",
    "#print \"*\"*length\n",
    "print output"
   ]
  },
  {
   "cell_type": "code",
   "execution_count": null,
   "metadata": {
    "collapsed": false
   },
   "outputs": [],
   "source": [
    "#question_10\n",
    "listt=[13,99,6,76,11,83,27,84,28,67,66,22,96,46,63,21,65,48,8,14,84,22,28,11,83,87,11,76,6,83,27]\n",
    "print len(listt)"
   ]
  },
  {
   "cell_type": "code",
   "execution_count": null,
   "metadata": {
    "collapsed": false,
    "scrolled": true
   },
   "outputs": [],
   "source": [
    "#question_11\n",
    "listt=[13,99,6,76,11,83,27,84,28,67,66,22,96,46,63,21,65,48,8,14,84,22,28,11,83,87,11,76,6,83,27]\n",
    "count=0\n",
    "Max=0\n",
    "while count<len(listt):\n",
    "    if listt[count]>Max:\n",
    "        Max=listt[count]\n",
    "    count+=1\n",
    "print Max\n"
   ]
  },
  {
   "cell_type": "code",
   "execution_count": null,
   "metadata": {
    "collapsed": false
   },
   "outputs": [],
   "source": [
    "#question_12\n",
    "listt=[13,99,6,76,11,83,27,84,28,67,66,22,96,46,63,21,65,48,8,14,84,22,28,11,83,87,11,76,6,83,27]\n",
    "count=0\n",
    "Min=99\n",
    "while count<len(listt):\n",
    "    if listt[count]<Min:\n",
    "        Min=listt[count]\n",
    "    count+=1\n",
    "print Min"
   ]
  },
  {
   "cell_type": "code",
   "execution_count": null,
   "metadata": {
    "collapsed": true
   },
   "outputs": [],
   "source": [
    "#questoin_13\n",
    "listt=[13,99,6,76,11,83,27,84,28,67,66,22,96,46,63,21,65,48,8,14,84,22,28,11,83,87,11,76,6,83,27]\n",
    "count=0\n",
    "Min=99\n",
    "Max=0\n",
    "while count<len(listt):\n",
    "    if listt[count]<Min:\n",
    "        Min=listt[count]\n",
    "    if listt[count]>Max:\n",
    "        Max=listt[count]\n",
    "    count+=1\n",
    "print Min"
   ]
  },
  {
   "cell_type": "code",
   "execution_count": null,
   "metadata": {
    "collapsed": false
   },
   "outputs": [],
   "source": [
    "#question_14\n",
    "listt=[13,99,6,76,11,83,27,84,28,67,66,22,96,46,63,21,65,48,8,14,84,22,28,11,83,87,11,76,6,83,27]\n",
    "count=0\n",
    "summ=0\n",
    "while count<len(listt):\n",
    "    summ+=listt[count]\n",
    "    count+=1\n",
    "print summ/len(listt)"
   ]
  },
  {
   "cell_type": "code",
   "execution_count": null,
   "metadata": {
    "collapsed": false
   },
   "outputs": [],
   "source": [
    "#question_15\n",
    "listt=[13,99,6,76,11,83,27,84,28,67,66,22,96,46,63,21,65,48,8,14,84,22,28,11,83,87,11,76,6,83,27]\n",
    "count=0\n",
    "inp=input(\"enter the number: \")\n",
    "while count<len(listt):\n",
    "    if listt[count]==inp:\n",
    "        output= \"exists\"\n",
    "    \n",
    "    count+=1\n",
    "print output"
   ]
  },
  {
   "cell_type": "code",
   "execution_count": null,
   "metadata": {
    "collapsed": false
   },
   "outputs": [],
   "source": [
    "#question_16\n",
    "listt=[13,99,6,76,11,83,27,84,28,67,66,22,96,46,63,21,65,48,8,14,84,22,28,11,83,87,11,76,6,83,27]\n",
    "length=len(listt)\n",
    "temp=listt[0]\n",
    "listt[0]=listt[length-1]\n",
    "listt[length-1]=temp\n",
    "print listt\n"
   ]
  }
 ],
 "metadata": {
  "kernelspec": {
   "display_name": "Python [Root]",
   "language": "python",
   "name": "Python [Root]"
  },
  "language_info": {
   "codemirror_mode": {
    "name": "ipython",
    "version": 2
   },
   "file_extension": ".py",
   "mimetype": "text/x-python",
   "name": "python",
   "nbconvert_exporter": "python",
   "pygments_lexer": "ipython2",
   "version": "2.7.12"
  }
 },
 "nbformat": 4,
 "nbformat_minor": 0
}
