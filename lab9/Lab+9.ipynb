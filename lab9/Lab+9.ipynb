{
 "cells": [
  {
   "cell_type": "markdown",
   "metadata": {},
   "source": [
    "### ITC Lab 9  *(2 Dimentional Lists, Functions)*"
   ]
  },
  {
   "cell_type": "markdown",
   "metadata": {},
   "source": [
    "Problem 1: Write a function Display that takes a variable as input and displays its\n",
    "value in function body.\n"
   ]
  },
  {
   "cell_type": "code",
   "execution_count": null,
   "metadata": {
    "collapsed": true
   },
   "outputs": [],
   "source": []
  },
  {
   "cell_type": "markdown",
   "metadata": {},
   "source": [
    "Problem 2: Write a function named ‘IsEven’ that input a number and check\n",
    "whether it is even or odd. Function should return True if number is even and false\n",
    "otherwise.\n"
   ]
  },
  {
   "cell_type": "code",
   "execution_count": null,
   "metadata": {
    "collapsed": true
   },
   "outputs": [],
   "source": []
  },
  {
   "cell_type": "markdown",
   "metadata": {},
   "source": [
    "Problem 3: Write a function named \"swapNum\" that takes two number as arguments\n",
    "and interchanges the values that are stored in those arguments. The function should not\n",
    " return any value.\n"
   ]
  },
  {
   "cell_type": "code",
   "execution_count": null,
   "metadata": {
    "collapsed": true
   },
   "outputs": [],
   "source": []
  },
  {
   "cell_type": "markdown",
   "metadata": {},
   "source": [
    "Problem 4: Write a function named \"digitName\" that takes an integer argument in the\n",
    "range from 1 to 9 inclusive, and prints the English name for that integer on the computer\n",
    " screen. If the argument is not in the required range, then the function\n",
    "should print \"digit error\"."
   ]
  },
  {
   "cell_type": "code",
   "execution_count": null,
   "metadata": {
    "collapsed": true
   },
   "outputs": [],
   "source": []
  },
  {
   "cell_type": "markdown",
   "metadata": {},
   "source": [
    "Problem 5: A positive integer n is said to be prime (or, \"a prime\") if and only if n is\n",
    " greater than 1 and is divisible only by 1 and n.\n",
    "For example, the integers 17 and 29 are prime, but 1 and 38 are not prime. Write a\n",
    "function named \"is_prime\" that takes a positive integer argument and returns as its\n",
    "value the integer 1 if the argument is prime and returns the integer 0 otherwise.\n"
   ]
  },
  {
   "cell_type": "code",
   "execution_count": null,
   "metadata": {
    "collapsed": true
   },
   "outputs": [],
   "source": []
  },
  {
   "cell_type": "markdown",
   "metadata": {},
   "source": [
    "Problem 6: Write a function named \"reduce\" that takes two positive integer\n",
    "arguments, call them \"num\" and \"denom\", treats them as the numerator and denominator\n",
    " of a fraction, and reduces the fraction. That is to say, each of the two arguments will be\n",
    " modified by dividing it by the greatest common divisor of the two integers. The function\n",
    " should return the value 0 (to indicate failure to reduce) if either of the two arguments is\n",
    " zero or negative, and should return the value 1 otherwise."
   ]
  },
  {
   "cell_type": "code",
   "execution_count": null,
   "metadata": {
    "collapsed": true
   },
   "outputs": [],
   "source": []
  },
  {
   "cell_type": "markdown",
   "metadata": {},
   "source": [
    "Problem 7: Write a function named \"reverse\" that takes as its arguments the\n",
    " following:\n",
    "\t1. A list of numbers;\n",
    "\t2. An integer that tells how many values are in the list.\n",
    "The function must reverse the order of the values in the list. Thus, for example, if\n",
    " the list that's passed to the function looks like this\n",
    " \n",
    "\t5 | 2 | 9 | 3 | 7\n",
    "Then when the function prints like this\n",
    "\n",
    "    7 | 3 | 9 | 2 | 5"
   ]
  },
  {
   "cell_type": "code",
   "execution_count": null,
   "metadata": {
    "collapsed": true
   },
   "outputs": [],
   "source": []
  },
  {
   "cell_type": "markdown",
   "metadata": {},
   "source": [
    "Problem 8:\n",
    "Write a function named \"sum\" that takes as its arguments the following:\n",
    "\t1. A list of numbers;\n",
    "\t2. An integer that tells how many values are in the list.\n",
    "The function should return as its value the sum of the values in the list. Thus, for\n",
    " example, if the list that's passed to the function looks like this\n",
    " \n",
    "\t5 | 2 | 9 | 3 | 7\n",
    "Then the function should return the value 26 as its value."
   ]
  },
  {
   "cell_type": "code",
   "execution_count": null,
   "metadata": {
    "collapsed": true
   },
   "outputs": [],
   "source": []
  },
  {
   "cell_type": "markdown",
   "metadata": {},
   "source": [
    "Problem 9: Write a function named \"location_of_largest\" that takes as its arguments\n",
    "the following\n",
    "\n",
    "\t(1) A list of integer values;\n",
    "\t(2) An integer that tells how many integer values are in the list.\n",
    "The function should return as its value the index of the cell containing the\n",
    "largest of the values in the list.\n",
    "Thus, for example, if the list that's passed to the function looks\n",
    "like this\n",
    "\n",
    "    58 | 26 | 90 | 34 | 71\n",
    "\n",
    "\n",
    "Then the function should return the integer 2 as its value. If there is more than one cell containing the largest of the values in the list, then the function should return the smallest of the subscripts of the cells containing the largest values. For example, if the list that's passed to the function is\n",
    "\n",
    "\t58 | 26 | 91 | 34 | 70 | 91 | 88\n",
    "Then the largest value occurs in cells 2 and 5 , so the function should return the\n",
    "integer value 2 ."
   ]
  },
  {
   "cell_type": "code",
   "execution_count": null,
   "metadata": {
    "collapsed": true
   },
   "outputs": [],
   "source": []
  },
  {
   "cell_type": "markdown",
   "metadata": {},
   "source": [
    "Problem 10: Write a function named \"rotateRight\" that takes as its arguments the\n",
    "following\n",
    "\n",
    "\t1. A list of integer values;\n",
    "\t2. An integer that tells how many integer values are in the list.\n",
    "The function should shift the contents of each cell one place to the right, except for\n",
    " the contents of the last cell, which should be moved into the cell with subscript 0 .\n",
    "Thus, for example, if the list passed to the function looks like this\n",
    "\n",
    "\t5.8 | 2.6 | 9.1 | 3.4 | 7.0\n",
    "Then when the function prints the list, which have been changed so that it\n",
    "looks like this\n",
    "\n",
    "    7.0 | 5.8 | 2.6 | 9.1 | 3.4\n",
    "The function should not return any value.\n"
   ]
  },
  {
   "cell_type": "code",
   "execution_count": null,
   "metadata": {
    "collapsed": true
   },
   "outputs": [],
   "source": []
  },
  {
   "cell_type": "markdown",
   "metadata": {},
   "source": [
    "Problem 11: Write a function named “Transpose” that takes as its arguments the\n",
    "following\n",
    "\n",
    "\t1. A 2 dimensional list of integer values\n",
    "The function should return transpose of given list.\n",
    "Thus, for example, if the list passed to the function looks like this\n",
    "\t\n",
    "    2 | 3 | 5 | 6 | 7\n",
    "\t5 | 2 | 9 | 3 | 7\n",
    "\n",
    "Then when the function prints the following list:\n",
    "\n",
    "\t2 | 5\n",
    "\t3 | 2\n",
    "\t5 | 9\n",
    "\t6 | 3\n",
    "\t7 | 7\t"
   ]
  },
  {
   "cell_type": "code",
   "execution_count": null,
   "metadata": {
    "collapsed": true
   },
   "outputs": [],
   "source": []
  },
  {
   "cell_type": "markdown",
   "metadata": {},
   "source": [
    "Problem 12: Write a function named “ElementwiseProduct” that takes two lists (2 dimensional) as arguments.\n",
    "The function should calculate elementwise product of both list and store them in third list. Now return this resultant list from function.\n",
    "Thus, for example, if the lists passed to the function looks like this\n",
    "\n",
    "\tlist1:   2 | 3 | 5 | 6 | 7\n",
    "             5 | 2 | 9 | 3 | 7\n",
    "\n",
    "\t\t \t\n",
    "\t\n",
    "\tlist2:   5 | 2 | 9 | 3 | 7\n",
    "             1 | 3 | 5 | 2 | 2\n",
    "\n",
    "Then when the function prints the following list\n",
    "\n",
    "\t\t\t10 | 6 | 45 | 18 | 49\n",
    "\t\t\t 5 | 6 | 45 |  6 | 14\t\n"
   ]
  },
  {
   "cell_type": "code",
   "execution_count": null,
   "metadata": {
    "collapsed": true
   },
   "outputs": [],
   "source": []
  },
  {
   "cell_type": "markdown",
   "metadata": {},
   "source": [
    "Problem 13: Write a function named \"MySum\" that takes as its arguments the\n",
    "following\n",
    "\n",
    "\t1. A 2 dimensional list of integer values\n",
    "\t2. A boolean argument “is_col”\n",
    "\n",
    "The function should return row-wise sum of list if is_col==False otherwise it should return column-wise sum of given list. \n",
    "Thus, for example, if the lists passed to the function looks like this and is_col= False\n",
    "\n",
    "\tlist1:   2 | 3 | 5 | 6 | 7\n",
    "             5 | 2 | 9 | 3 | 7\n",
    "The function should return: 23 , 26\n",
    "\n",
    "However, if is_col= True then function should return\n",
    "\n",
    "        7 | 5 | 14 | 9 | 14\n",
    "\n"
   ]
  },
  {
   "cell_type": "code",
   "execution_count": null,
   "metadata": {
    "collapsed": true
   },
   "outputs": [],
   "source": []
  },
  {
   "cell_type": "markdown",
   "metadata": {},
   "source": [
    "Problem 14: Write a function named \"MaxIndex\" that takes as its arguments the\n",
    "following:\n",
    "\t1. A list of integer values;\n",
    "\t2. An integer i\n",
    "    3. An integer j\n",
    "\n",
    "The function should return index of maximum element between ith and jth index (inclusive) of list. \n",
    "Thus, for example, if the lists passed to the function looks like following, i=2 and j=4\n",
    "\n",
    "\tlist1: 2 | 3 | 5 | 6 | 7\n",
    "\t\t \n",
    "The function should return: 4"
   ]
  },
  {
   "cell_type": "code",
   "execution_count": null,
   "metadata": {
    "collapsed": true
   },
   "outputs": [],
   "source": []
  },
  {
   "cell_type": "markdown",
   "metadata": {},
   "source": [
    "Problem 15: Write a function named \"Swap\" that takes two numbers as its arguments, swap their values and returns the resultant values."
   ]
  },
  {
   "cell_type": "code",
   "execution_count": null,
   "metadata": {
    "collapsed": true
   },
   "outputs": [],
   "source": []
  },
  {
   "cell_type": "markdown",
   "metadata": {},
   "source": [
    "Problem 16: Write a loop to iterate over all the elements of a given list and swap ith element of list with max element, between ith and last element of list.\n",
    "\n",
    "Note: Here i will vary from 1 to length of list"
   ]
  },
  {
   "cell_type": "code",
   "execution_count": null,
   "metadata": {
    "collapsed": true
   },
   "outputs": [],
   "source": []
  },
  {
   "cell_type": "markdown",
   "metadata": {},
   "source": [
    "Problem 17: Write a function that takes two lists (2 dimensional) as input and returns their dot product."
   ]
  },
  {
   "cell_type": "code",
   "execution_count": null,
   "metadata": {
    "collapsed": true
   },
   "outputs": [],
   "source": []
  }
 ],
 "metadata": {
  "kernelspec": {
   "display_name": "Python 2",
   "language": "python",
   "name": "python2"
  },
  "language_info": {
   "codemirror_mode": {
    "name": "ipython",
    "version": 2
   },
   "file_extension": ".py",
   "mimetype": "text/x-python",
   "name": "python",
   "nbconvert_exporter": "python",
   "pygments_lexer": "ipython2",
   "version": "2.7.12"
  }
 },
 "nbformat": 4,
 "nbformat_minor": 0
}
