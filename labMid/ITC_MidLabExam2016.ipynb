{
 "cells": [
  {
   "cell_type": "markdown",
   "metadata": {},
   "source": [
    "# ITC MID Exam"
   ]
  },
  {
   "cell_type": "markdown",
   "metadata": {},
   "source": [
    "### Fill the cell blelow"
   ]
  },
  {
   "cell_type": "code",
   "execution_count": null,
   "metadata": {
    "collapsed": true
   },
   "outputs": [],
   "source": [
    "# Name ----------------------------------------\n",
    "# Roll number ---------------------------------\n",
    "# Lab Name in which your exam is taken --------\n",
    "# Seat row and coloumn ------------------------"
   ]
  },
  {
   "cell_type": "markdown",
   "metadata": {},
   "source": [
    "### Instructions\n",
    "- Fill the above information carefully and rename the notebbok with your roll #\n",
    "- You should first change your **SLATE** password.\n",
    "- Do not modify the name or number of arguments of any function.\n",
    "- You can define new functions but the implementation of the required functions is necessory.\n",
    "- Read the question carefully, before you start to implement.\n",
    "- No one will come to correct any mistake, so if you think there is any problem, take a realistic assumption, state that as a comment, and implement accordingly.\n",
    "- Seprate cells are provided for testing your implemented functions, use them to call and test your functions.\n",
    "- There are no marks for testing, so if you do not want to test your code, just implemet the function and move on.\n",
    "- Make a smiley in the above cell, in front of your name to get a bonus mark.\n",
    "- You can make new cells for your convinience, but the implementation of the given cell would only be marked.\n",
    "- Not following the instructions may lead to cancellation of your exam.\n",
    "- **We hope you are well aware that anyone involved in any cheating related activity will get straight F in the course.**\n",
    "\n",
    "\n",
    "### Submission\n",
    "- Write all your code in this notebook, within the provided cells, and then upload this notebook in the exam tab.\n",
    "- You do not have to make any other file of any kind.\n",
    "- Do not wait till the last minute to upload the file.** Upload atleast 15 minutes before the deadline.**\n",
    "- Students failing to submit the notebook within the given time will get a straight zero.\n",
    "\n",
    "### Good programming Practices\n",
    "If you write clean, easy to understand code and follow the naming conventions, you can be awarded upto **5 bonus marks**.\n",
    "\n",
    "---"
   ]
  },
  {
   "cell_type": "markdown",
   "metadata": {},
   "source": [
    "## Part -I  --> String Processing\n",
    "String: It is a list of characters e.g string \"ITC lab Exam\" is a list of length 12\n",
    "\n",
    "SubString: It is sub part of a string . For example, \"the best of\" is a substring of \"It was the best of times\". \n",
    "### a. Insert String\n",
    "It is very often that we have to insert a substring within a string at a desired position. So write the following function which does that : \n",
    "```python\n",
    "def insertString(mainString, subString, index)                              20 Marks\n",
    "```\n",
    "The function inserts the substring at the given index, and returns the resulting string. Note that insertion does not replace the characters of the orignal string. it shifts them forward (Look at the examples for understanding).\n",
    "\n",
    "**Note** : If due to some reason substring cannot be inserted, then return an empty string."
   ]
  },
  {
   "cell_type": "code",
   "execution_count": null,
   "metadata": {
    "collapsed": true
   },
   "outputs": [],
   "source": [
    "def insertString(mainString, subString, index):\n",
    "    \"\"\"\n",
    "    Arguments :\n",
    "        mainString : Main String\n",
    "        subString  : String to be inserted\n",
    "        index      : A number indicating the index at which substring is to be inserted\n",
    "    returns : \n",
    "        Updated string if process was sucessfull, therwise empty string\n",
    "    \"\"\""
   ]
  },
  {
   "cell_type": "markdown",
   "metadata": {},
   "source": [
    "#### You can test your function for the following cases : \n",
    "**Input** : \n",
    "\n",
    "    mainString = \"He is a boy\" \n",
    "    subString  = \" cool\"\n",
    "    index      = 6\n",
    "\n",
    "**Return Value** : \"He is a cool boy\"\n",
    "\n",
    "**Input** : \n",
    "\n",
    "    mainString = \"She is a boy\" \n",
    "    subString  = \" not\"\n",
    "    index      = 5\n",
    "\n",
    "**Return Value** : \"She is not a boy\"\n",
    "\n",
    "**Input** : \n",
    "\n",
    "    mainString = \"She is a boy\" \n",
    "    subString  = \" not\"\n",
    "    index      = 15\n",
    "\n",
    "**Return Value** : \"\""
   ]
  },
  {
   "cell_type": "code",
   "execution_count": null,
   "metadata": {
    "collapsed": true
   },
   "outputs": [],
   "source": [
    "# Call you function for the given inputs and compare the results to make sure it is correct.\n"
   ]
  },
  {
   "cell_type": "markdown",
   "metadata": {},
   "source": [
    "### b. Palindrome\n",
    "A string is a palindrome if it reads the same backward as forward, e.g. *madam*. You have to complete the following function :\n",
    "``` python\n",
    "def isPalindrome(string)                                                     10 Marks\n",
    "```\n",
    "The function accepts a string as an argument and returns true if it is a palindrome, false otherwise."
   ]
  },
  {
   "cell_type": "code",
   "execution_count": null,
   "metadata": {
    "collapsed": true
   },
   "outputs": [],
   "source": [
    "def isPalindrome(string):\n",
    "    \"\"\"\n",
    "    Arguments :\n",
    "        string : A string to be checked\n",
    "    returns : \n",
    "        True if string is a palindrome, else false\n",
    "    \"\"\"\n",
    "    "
   ]
  },
  {
   "cell_type": "markdown",
   "metadata": {},
   "source": [
    "#### You can test your function for the following cases : \n",
    "**Input** : \n",
    "\n",
    "    string  = \"madam\"\n",
    "\n",
    "**Return Value** : True\n",
    "\n",
    "**Input** : \n",
    "    \n",
    "    string = \"Sir\"\n",
    "\n",
    "**Return Value** : False"
   ]
  },
  {
   "cell_type": "code",
   "execution_count": null,
   "metadata": {
    "collapsed": true
   },
   "outputs": [],
   "source": [
    "# Call you function for the given inputs and compare the results to make sure it is correct.\n"
   ]
  },
  {
   "cell_type": "markdown",
   "metadata": {},
   "source": [
    "### c. Find                                     \n",
    "Write the following function :\n",
    "```python\n",
    "def find(mainString, subStr)                                                 20 Marks\n",
    "```\n",
    "The function takes a main string and a substring as arguments and searches substing in the main string. If substring is present in the main string then return it's starting index, else return -1.\n",
    "\n",
    "**Note** : In case of multiple occurrence, return the starting index of the last one."
   ]
  },
  {
   "cell_type": "code",
   "execution_count": null,
   "metadata": {
    "collapsed": true
   },
   "outputs": [],
   "source": [
    "def find(mainString, subString):\n",
    "    \"\"\"\n",
    "    Arguments :\n",
    "        mainString : A string to be concidered as the main string\n",
    "        subString  : A string that is to be searched\n",
    "    returns : \n",
    "        starting index of the substring if found, else -1\n",
    "    \"\"\""
   ]
  },
  {
   "cell_type": "markdown",
   "metadata": {},
   "source": [
    "#### You can test your function for the following cases : \n",
    "**Input** : \n",
    "\n",
    "    mainString = \"He is a boy\" \n",
    "    subString  = \"girl\"\n",
    "\n",
    "**Return Value** : -1\n",
    "\n",
    "**Input** : \n",
    "\n",
    "    mainString = \"He is a boy\" \n",
    "    subString  = \"boy\"\n",
    "\n",
    "**Return Value** : 8\n",
    "\n",
    "**Input** : \n",
    "\n",
    "    mainString = \"This boy is a good boy\" \n",
    "    subString  = \"boy\"\n",
    "\n",
    "**Return Value** : 19"
   ]
  },
  {
   "cell_type": "code",
   "execution_count": null,
   "metadata": {
    "collapsed": true
   },
   "outputs": [],
   "source": [
    "# Call you function for the given inputs and compare the results to make sure it is correct.\n"
   ]
  },
  {
   "cell_type": "markdown",
   "metadata": {},
   "source": [
    "## Part-II --> Student Grading System\n",
    "You are cantacted by a university to make a student grade management system. And for making that system you have to provide the following functionality.\n",
    "\n",
    "```python\n",
    "def calculateStandardDeviation(listOfMarks)                                   10 Marks\n",
    "    return std\n",
    "def calculateMean(listOfMarks)                                                10 Marks\n",
    "    return mean\n",
    "def assignRelativeGrades(listOfMarks, std,mean)                               10 Marks\n",
    "    return grades\n",
    "def assignAbsoluteGrades(sortedListOfMarks, totalMarks)                       10 Marks\n",
    "    return grades\n",
    "def compareAbsoluteAndRelative(absoluteGrades, relativeGrades)                10 Marks\n",
    "    return comparison\n",
    "```\n",
    "\n",
    "----"
   ]
  },
  {
   "cell_type": "markdown",
   "metadata": {},
   "source": [
    "### Part A : \n",
    "In this part you are going to implement the function below that calculates the mean of a given list. The formula for calculating mean is : \n",
    "$$\\begin{equation} mean = \\frac{\\sum_{i=1}^n  x^{(i)}}{n}\\end{equation}$$"
   ]
  },
  {
   "cell_type": "code",
   "execution_count": null,
   "metadata": {
    "collapsed": true
   },
   "outputs": [],
   "source": [
    "def calculateMean(listOfMarks):\n",
    "    \"\"\"\n",
    "    Arguments :\n",
    "        listOfMarks : A list of student marks\n",
    "    returns : \n",
    "        mean : Calculated mean of the list\n",
    "    \"\"\"\n",
    "    return mean"
   ]
  },
  {
   "cell_type": "markdown",
   "metadata": {},
   "source": [
    "#### You can test your function for the following cases : \n",
    "**Input** : \n",
    "\n",
    "    listOfMarks = [15 39 57 72 67]\n",
    "\n",
    "**Return Value** : 50\n",
    "\n",
    "**Input** : \n",
    "\n",
    "    listOfMarks = [ 6 45 24 35 19]\n",
    "\n",
    "**Return Value** : 25.8"
   ]
  },
  {
   "cell_type": "code",
   "execution_count": null,
   "metadata": {
    "collapsed": true
   },
   "outputs": [],
   "source": [
    "# Call you function for the given inputs and compare the results to make sure it is correct.\n"
   ]
  },
  {
   "cell_type": "markdown",
   "metadata": {},
   "source": [
    "### Part B : \n",
    "In this part you are going to implement the function below that calculates the standard deviation of a given list. The formula of standard deviation is given below : \n",
    "\n",
    "$$\\begin{equation} std = \\sqrt{ \\frac{ \\sum_{i=1}^n  (x^{(i)}- mean)^2 }{n} }\\end{equation}$$"
   ]
  },
  {
   "cell_type": "code",
   "execution_count": null,
   "metadata": {
    "collapsed": true
   },
   "outputs": [],
   "source": [
    "def calculateStandardDeviation(listOfMarks, mean):\n",
    "    \"\"\"\n",
    "    Arguments :\n",
    "        listOfMarks : A list of student marks\n",
    "        mean : Mean of the list\n",
    "    returns : \n",
    "        std : Calculated standard deviation\n",
    "    \"\"\"\n",
    "\n",
    "    return std"
   ]
  },
  {
   "cell_type": "markdown",
   "metadata": {},
   "source": [
    "#### You can test your function for the following cases : \n",
    "**Input** : \n",
    "\n",
    "        listOfMarks = [61 98 11 36 82 34  8 69 47 73]\n",
    "        \n",
    "        mean = 51.9\n",
    "\n",
    "**Return Value** : 28.371\n",
    "\n",
    "**Input** : \n",
    "\n",
    "        listOfMarks = [78 18 46 36 97 40 97 15 75 13]\n",
    "        \n",
    "        mean = 51.5\n",
    "\n",
    "**Return Value** : 31.2"
   ]
  },
  {
   "cell_type": "code",
   "execution_count": null,
   "metadata": {
    "collapsed": true
   },
   "outputs": [],
   "source": [
    "# Call you function for the given inputs and compare the results to make sure it is correct.\n"
   ]
  },
  {
   "cell_type": "markdown",
   "metadata": {},
   "source": [
    "### Part C : \n",
    "In this part you are going to implement the function below calculates grades for a given list, standard deviation and mean, using the following criteria : \n",
    "- If a student has marks greater than mean + std, the student gets an 'A'\n",
    "- If a student has marks greater than mean but less than mean + std, the student gets an 'B'\n",
    "- If a student has marks greater than mean - std but less than mean, the student gets an 'C'\n",
    "- If a student has marks less than mean, the student gets an 'F'\n",
    "\n",
    "**Note** : At boundries, assign the lower grade."
   ]
  },
  {
   "cell_type": "code",
   "execution_count": null,
   "metadata": {
    "collapsed": true
   },
   "outputs": [],
   "source": [
    "def assignRelativeGrades(listOfMarks, std,mean):\n",
    "    \"\"\"\n",
    "    Arguments :\n",
    "        listOfMarks : A list of student marks\n",
    "        mean        : Mean of the list\n",
    "        std         : Standard deviation of the list\n",
    "    returns : \n",
    "        grades      : Calculated grades, as a list of same size as listOfMarks\n",
    "    \"\"\"\n",
    "    return grades"
   ]
  },
  {
   "cell_type": "markdown",
   "metadata": {},
   "source": [
    "#### You can test your function for the following cases : \n",
    "**Input** : \n",
    "\n",
    "        listOfMarks = [14 68 48 71 79  7 51  7 68 42]\n",
    "        \n",
    "        mean = 45.5\n",
    "        \n",
    "        std = 26.058\n",
    "\n",
    "**Return Value** : ['F', 'B', 'B', 'B', 'A', 'F', 'B', 'F', 'B', 'C']\n",
    "\n",
    "**Input** : \n",
    "\n",
    "        listOfMarks = [55 55 72 64 86 43 94 61 22 78]\n",
    "        \n",
    "        mean = 63.0\n",
    "        \n",
    "        std = 20.024\n",
    "\n",
    "**Return Value** : ['C', 'C', 'B', 'B', 'A', 'C', 'A', 'C', 'F', 'B']"
   ]
  },
  {
   "cell_type": "code",
   "execution_count": null,
   "metadata": {
    "collapsed": true
   },
   "outputs": [],
   "source": [
    "# Call you function for the given inputs and compare the results to make sure it is correct.\n"
   ]
  },
  {
   "cell_type": "markdown",
   "metadata": {},
   "source": [
    "### Part D : \n",
    "Finally implement the following finction to assign absolute grades to the given list of marks according to the following criteria : \n",
    "- If a student has marks less than 40% the student gets an 'F'\n",
    "- If a student has marks greater than 40% but less than 60%, the student gets an 'C'\n",
    "- If a student has marks greater than 60% but less than 80%, the student gets an 'B'\n",
    "- If a student has marks greater than 80% the student gets an 'A'\n",
    "\n",
    "**Note** : At boundries, assign the lower grade."
   ]
  },
  {
   "cell_type": "code",
   "execution_count": null,
   "metadata": {
    "collapsed": true
   },
   "outputs": [],
   "source": [
    "def assignAbsoluteGrades(sortedListOfMarks, totalMarks):\n",
    "    \"\"\"\n",
    "    Arguments :\n",
    "        listOfMarks : A list of student marks\n",
    "        totalMarks  : Total Marks\n",
    "    returns : \n",
    "        grades  : List of assigned grades of same length as marks.\n",
    "    \"\"\"\n",
    "    return grades"
   ]
  },
  {
   "cell_type": "markdown",
   "metadata": {},
   "source": [
    "#### You can test your function for the following cases : \n",
    "**Input** : \n",
    "\n",
    "        listOfMarks = [26 59 10 37 33 10 82 69 41 44] \n",
    "        \n",
    "        totalMarks = 94\n",
    "\n",
    "**Return Value** : ['F', 'B', 'F', 'F', 'F', 'F', 'A', 'B', 'C', 'C']\n",
    "\n",
    "**Input** : \n",
    "\n",
    "        listOfMarks = [36 45 78 19 24 71 46 83 89 60]\n",
    "        \n",
    "        mean = 90\n",
    "\n",
    "**Return Value** : ['F', 'C', 'A', 'F', 'F', 'B', 'C', 'A', 'A', 'B']"
   ]
  },
  {
   "cell_type": "code",
   "execution_count": null,
   "metadata": {
    "collapsed": true
   },
   "outputs": [],
   "source": [
    "# Call you function for the given inputs and compare the results to make sure it is correct.\n"
   ]
  },
  {
   "cell_type": "markdown",
   "metadata": {},
   "source": [
    "### Part E :\n",
    "It is a common misconception that absolute grading system gives better grades as compared to relative grading system.\n",
    "\n",
    "Since you have implemented the functionality of absolute and relative grading, let's implement a function that will help us to compare the two grading systems. You will implement the following function that will take two list of grades as arguments and return a list of boolean. Create a list names comparison which will have :\n",
    "- True if absolute grade of a student is equal or greater then relative grade.\n",
    "- Fase if absolute grade of a student is less then relative grade.\n",
    "\n",
    "So fo the following grades : \n",
    "\n",
    "    absoluteGrades = ['A', 'B', 'F', 'C']\n",
    "\n",
    "    realtive Grades = ['B', 'B', 'C', 'B']\n",
    "The comparison list should be :\n",
    "\n",
    "    comparison = [True , True, False, True]"
   ]
  },
  {
   "cell_type": "code",
   "execution_count": null,
   "metadata": {
    "collapsed": false
   },
   "outputs": [],
   "source": [
    "def compareAbsoluteAndRelative(absoluteGrades, relativeGrades):\n",
    "    \"\"\"\n",
    "    Arguments :\n",
    "        absoluteGrades : A list of student grades based on absolute criteria.\n",
    "        relativeGrades : A list of student grades based on relative criteria.\n",
    "    returns : \n",
    "        comparison     :  A list of bolean values based on the above criteria.\n",
    "    \"\"\"\n",
    "    \n",
    "    return comparison"
   ]
  },
  {
   "cell_type": "markdown",
   "metadata": {},
   "source": [
    "#### You can test your function for the following cases : \n",
    "**Input **: \n",
    "\n",
    "    Absolute Grades :  ['F', 'A', 'A', 'F', 'F', 'F', 'C', 'A', 'B', 'B']\n",
    "    \n",
    "    Relative Grades :  ['F', 'A', 'B', 'F', 'C', 'C', 'B', 'B', 'B', 'B']\n",
    "\n",
    "**Return Value** : [True, True, True, True, False, False, False, True, True, True]\n",
    "\n",
    "**Input** : \n",
    "\n",
    "    Absolute Grades :  ['F', 'F', 'B', 'C', 'B', 'B', 'C', 'F', 'C', 'A']\n",
    "    \n",
    "    Relative Grades :  ['F', 'F', 'B', 'B', 'B', 'B', 'C', 'F', 'C', 'A']\n",
    "\n",
    "\n",
    "**Return Value** : [True, True, True, False, True, True, True, True, True, True]"
   ]
  },
  {
   "cell_type": "code",
   "execution_count": null,
   "metadata": {
    "collapsed": true
   },
   "outputs": [],
   "source": [
    "# Call you function for the given inputs and compare the results to make sure it is correct.\n"
   ]
  },
  {
   "cell_type": "markdown",
   "metadata": {},
   "source": [
    "###  The complete system\n",
    "Finaly we have all the components of out system ready, lets combine them and see how it works !\n",
    "\n",
    "**Note** : You do not have to write any code in this part, just run the cell below and see how your system is working.\n",
    "\n",
    "**Caution** : Do not modify this block, just run this cell. If it causes any error that means either you have missed something or one of the functions is behaving differently. Go and correct that function."
   ]
  },
  {
   "cell_type": "code",
   "execution_count": null,
   "metadata": {
    "collapsed": false
   },
   "outputs": [],
   "source": [
    "# Do not modify !!!\n",
    "\n",
    "import numpy.random as random           # For random number genration\n",
    "\n",
    "listOfMarks = random.randint(0,90,10)   # Genrating random marks between 0,90\n",
    "totalMarks = random.randint(90,100)     # Genrating random total marks between 90,100\n",
    "\n",
    "mean = calculateMean(listOfMarks)\n",
    "std = calculateStandardDeviation(listOfMarks, mean)\n",
    "\n",
    "relativeGrades = assignRelativeGrades(listOfMarks, std, mean)\n",
    "absoluteGrades = assignAbsoluteGrades(listOfMarks, totalMarks)\n",
    "comparison = compareAbsoluteAndRelative(absoluteGrades, relativeGrades)\n",
    "\n",
    "print \"Marks : \", listOfMarks\n",
    "print \"Std : \",std\n",
    "print \"Means : \",mean\n",
    "print \"Absolute Grades : \",absoluteGrades\n",
    "print \"Relative Grades : \",relativeGrades\n",
    "print \"Comparison : \", comparison\n",
    "\n",
    "print \"% of students having Absolute grades greater then or equal to reltive grade : \",\\\n",
    "                                                float(sum(comparison)) / len(comparison)"
   ]
  },
  {
   "cell_type": "markdown",
   "metadata": {},
   "source": [
    "### Bonus                                                                                                         \n",
    "``` python                                                                         \n",
    "                                                                         5 Marks\n",
    "```\n",
    "\n",
    "Implement any function you like, and write its functionality in comments. If i found your implemetation intresting you can get a bonus."
   ]
  },
  {
   "cell_type": "code",
   "execution_count": null,
   "metadata": {
    "collapsed": true
   },
   "outputs": [],
   "source": []
  }
 ],
 "metadata": {
  "kernelspec": {
   "display_name": "Python [Root]",
   "language": "python",
   "name": "Python [Root]"
  },
  "language_info": {
   "codemirror_mode": {
    "name": "ipython",
    "version": 2
   },
   "file_extension": ".py",
   "mimetype": "text/x-python",
   "name": "python",
   "nbconvert_exporter": "python",
   "pygments_lexer": "ipython2",
   "version": "2.7.12"
  }
 },
 "nbformat": 4,
 "nbformat_minor": 0
}
