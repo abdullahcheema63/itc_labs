{
 "cells": [
  {
   "cell_type": "code",
   "execution_count": 3,
   "metadata": {
    "collapsed": false
   },
   "outputs": [
    {
     "name": "stdout",
     "output_type": "stream",
     "text": [
      "enter a number: 10\n",
      "0\n",
      "1\n",
      "2\n",
      "3\n",
      "4\n",
      "5\n",
      "6\n",
      "7\n",
      "8\n",
      "9\n",
      "10\n"
     ]
    }
   ],
   "source": [
    "#question_1\n",
    "count=0\n",
    "number=input(\"enter a number: \")\n",
    "while count<=number:\n",
    "    print count\n",
    "    count+=1"
   ]
  },
  {
   "cell_type": "code",
   "execution_count": 2,
   "metadata": {
    "collapsed": false,
    "scrolled": true
   },
   "outputs": [
    {
     "name": "stdout",
     "output_type": "stream",
     "text": [
      "enter a number: 1\n",
      "1\n"
     ]
    }
   ],
   "source": [
    "#question_2\n",
    "number=input(\"enter a number: \")\n",
    "count=0\n",
    "while count<=number:\n",
    "    if count%2!=0:\n",
    "        print count\n",
    "    count+=1"
   ]
  },
  {
   "cell_type": "code",
   "execution_count": 4,
   "metadata": {
    "collapsed": false
   },
   "outputs": [
    {
     "name": "stdout",
     "output_type": "stream",
     "text": [
      "enter a number: 10\n",
      "0\n",
      "2\n",
      "4\n",
      "6\n",
      "8\n",
      "10\n"
     ]
    }
   ],
   "source": [
    "#question_3\n",
    "number=input(\"enter a number: \")\n",
    "count=0\n",
    "while count<=number:\n",
    "    if count%2==0:\n",
    "        print count\n",
    "    count+=1"
   ]
  },
  {
   "cell_type": "code",
   "execution_count": 8,
   "metadata": {
    "collapsed": false
   },
   "outputs": [
    {
     "name": "stdout",
     "output_type": "stream",
     "text": [
      "enter a number5\n",
      "5*0=0\n",
      "5*1=5\n",
      "5*2=10\n",
      "5*3=15\n",
      "5*4=20\n",
      "5*5=25\n",
      "5*6=30\n",
      "5*7=35\n",
      "5*8=40\n",
      "5*9=45\n",
      "5*10=50\n"
     ]
    }
   ],
   "source": [
    "#question_4\n",
    "number=input(\"enter a number\")\n",
    "count=0\n",
    "while count<=10:\n",
    "    print(str(number)+\"*\"+str(count)+\"=\"+str(count*number))\n",
    "    count+=1"
   ]
  },
  {
   "cell_type": "code",
   "execution_count": 77,
   "metadata": {
    "collapsed": false
   },
   "outputs": [
    {
     "name": "stdout",
     "output_type": "stream",
     "text": [
      "1,0,3, 3,2,6, 5,4,9, 7,6,12, 9,8,15, 11,10,18, 13,12,21, 15,14,24, 17,16,27, 19,18,30, 21,20,33, 23,22,36, 25,24,39, 27,26,42, 29,28,45, 31,30,48, 33,32,51, 35,34,54, 37,36,57, 39,38,60, 41,40,63, 43,42,66, 45,44,69, 47,46,72, 49,48,75, 51,50,78, 53,52,81, 55,54,84, 57,56,87, 59,58,90, 61,60,93, 63,62,96, 65,64,99, 67,66,102, 69,68,105, 71,70,108, 73,72,111, 75,74,114, 77,76,117, 79,78,120, 81,80,123, 83,82,126, 85,84,129, 87,86,132, 89,88,135, 91,90,138, 93,92,141, 95,94,144, 97,96,147, 99,98,150, 101,100,153, 103,102,156, 105,104,159, 107,106,162, 109,108,165, 111,110,168, 113,112,171, 115,114,174, 117,116,177, 119,118,180, 121,120,183, 123,122,186, 125,124,189, 127,126,192, 129,128,195, 131,130,198, 133,132,201, 135,134,204, 137,136,207, 139,138,210, 141,140,213, 143,142,216, 145,144,219, 147,146,222, 149,148,225, 151,150,228, 153,152,231, 155,154,234, 157,156,237, 159,158,240, 161,160,243, 163,162,246, 165,164,249, 167,166,252, 169,168,255, 171,170,258, 173,172,261, 175,174,264, 177,176,267, 179,178,270, 181,180,273, 183,182,276, 185,184,279, 187,186,282, 189,188,285, 191,190,288, 193,192,291, 195,194,294, 197,196,297, 199,198,300, 201,200,303,\n"
     ]
    }
   ],
   "source": [
    "#question_5\n",
    "series_one=1\n",
    "series_two=0\n",
    "series_three=3\n",
    "count=0\n",
    "while count<=100:\n",
    "    print (str(series_one)+\",\"+str(series_two)+\",\"+str(series_three)+\",\"),\n",
    "    series_one+=2\n",
    "    series_two+=2\n",
    "    series_three+=3\n",
    "    count+=1\n"
   ]
  },
  {
   "cell_type": "code",
   "execution_count": 85,
   "metadata": {
    "collapsed": false,
    "scrolled": true
   },
   "outputs": [
    {
     "name": "stdout",
     "output_type": "stream",
     "text": [
      "enter a number: 3\n",
      "6\n"
     ]
    }
   ],
   "source": [
    "#question_6\n",
    "number=input(\"enter a number: \")\n",
    "count=number\n",
    "factorial=1\n",
    "while count>0:\n",
    "    factorial=factorial*count\n",
    "    count-=1\n",
    "print factorial"
   ]
  },
  {
   "cell_type": "code",
   "execution_count": 26,
   "metadata": {
    "collapsed": false
   },
   "outputs": [
    {
     "name": "stdout",
     "output_type": "stream",
     "text": [
      "enter base: 2\n",
      "enter exponent: 7\n",
      "128\n"
     ]
    }
   ],
   "source": [
    "#question_7\n",
    "base=input(\"enter base: \")\n",
    "exponent=input(\"enter exponent: \")\n",
    "count=1\n",
    "result=1\n",
    "while count<=exponent:\n",
    "    result=result*base\n",
    "    count+=1\n",
    "print result"
   ]
  },
  {
   "cell_type": "code",
   "execution_count": 30,
   "metadata": {
    "collapsed": false
   },
   "outputs": [
    {
     "name": "stdout",
     "output_type": "stream",
     "text": [
      "enter the number of inputs: 3\n",
      "enter a number:7\n",
      "please enter a number: 9\n",
      "7\n",
      "please enter a number: 2\n",
      "2\n"
     ]
    }
   ],
   "source": [
    "#question_8\n",
    "number_of_inputs=input(\"enter the number of inputs: \")\n",
    "count=1\n",
    "previous_number=input(\"enter a number:\")\n",
    "while count<number_of_inputs:\n",
    "    input_numbers=input(\"please enter a number: \")\n",
    "    if input_numbers<previous_number:\n",
    "        previous_number=input_numbers\n",
    "    print previous_number\n",
    "    count+=1\n"
   ]
  },
  {
   "cell_type": "code",
   "execution_count": 32,
   "metadata": {
    "collapsed": false
   },
   "outputs": [
    {
     "name": "stdout",
     "output_type": "stream",
     "text": [
      "enter the number of inputs: 4\n",
      "enter a number:1\n",
      "please enter a number: 15\n",
      "15\n",
      "please enter a number: 555\n",
      "555\n",
      "please enter a number: 1\n",
      "555\n"
     ]
    }
   ],
   "source": [
    "#question_9\n",
    "number_of_inputs=input(\"enter the number of inputs: \")\n",
    "count=1\n",
    "previous_number=input(\"enter a number:\")\n",
    "while count<number_of_inputs:\n",
    "    input_numbers=input(\"please enter a number: \")\n",
    "    if input_numbers>previous_number:\n",
    "        previous_number=input_numbers\n",
    "    print previous_number\n",
    "    count+=1\n"
   ]
  },
  {
   "cell_type": "code",
   "execution_count": 37,
   "metadata": {
    "collapsed": false
   },
   "outputs": [
    {
     "name": "stdout",
     "output_type": "stream",
     "text": [
      "enter the number of inputs: 5\n",
      "please enter a number: 25\n",
      "please enter a number: 15\n",
      "please enter a number: 35\n",
      "please enter a number: 45\n",
      "please enter a number: 15\n",
      "27.0\n"
     ]
    }
   ],
   "source": [
    "#question_10\n",
    "number_of_inputs=input(\"enter the number of inputs: \")\n",
    "count=0\n",
    "summ=0\n",
    "while count<number_of_inputs:\n",
    "    input_numbers=input(\"please enter a number: \")\n",
    "    summ+=input_numbers\n",
    "    count+=1\n",
    "print (float(summ/number_of_inputs))\n"
   ]
  },
  {
   "cell_type": "code",
   "execution_count": 39,
   "metadata": {
    "collapsed": false
   },
   "outputs": [
    {
     "name": "stdout",
     "output_type": "stream",
     "text": [
      "enter a number:7\n",
      "1111111\n",
      "222222\n",
      "33333\n",
      "4444\n",
      "555\n",
      "66\n",
      "7\n"
     ]
    }
   ],
   "source": [
    "#question_11\n",
    "count=1\n",
    "input_number=input(\"enter a number:\")\n",
    "print_times=input_number\n",
    "while count<=input_number:\n",
    "    print (str(count)*print_times)\n",
    "    count+=1\n",
    "    print_times-=1"
   ]
  },
  {
   "cell_type": "code",
   "execution_count": null,
   "metadata": {
    "collapsed": true
   },
   "outputs": [],
   "source": [
    "#question_12"
   ]
  },
  {
   "cell_type": "code",
   "execution_count": 71,
   "metadata": {
    "collapsed": false
   },
   "outputs": [
    {
     "name": "stdout",
     "output_type": "stream",
     "text": [
      "  *\n",
      " ***\n",
      "*****\n",
      " ***\n",
      "  *\n",
      "   \n"
     ]
    }
   ],
   "source": [
    "#question_13\n",
    "stars=1\n",
    "space=2\n",
    "count=0\n",
    "while count<3:\n",
    "    print ((space*\" \")+(stars)*\"*\")\n",
    "    count+=1\n",
    "    stars+=2\n",
    "    space-=1\n",
    "stars=3\n",
    "space=1\n",
    "while count>0:\n",
    "    print ((space*\" \")+(stars)*\"*\")\n",
    "    count-=1\n",
    "    stars-=2\n",
    "    space+=1"
   ]
  },
  {
   "cell_type": "code",
   "execution_count": 76,
   "metadata": {
    "collapsed": false
   },
   "outputs": [
    {
     "name": "stdout",
     "output_type": "stream",
     "text": [
      "enter the number of inputs: 5\n",
      "enter a number: 12\n",
      "enter a number: 44\n",
      "enter a number: 15\n",
      "enter a number: 77\n",
      "enter a number: 999\n",
      "999\n",
      "999\n",
      "999\n"
     ]
    }
   ],
   "source": [
    "#question_14\n",
    "#number_of_inputs=input(\"enter the number of inputs: \")\n",
    "#count=0\n",
    "#largest=0\n",
    "#second_largest=0\n",
    "#third_largest=0\n",
    "#while count<number_of_inputs:\n",
    "#    input_numbers=input(\"enter a number: \")\n",
    "#    \n",
    "#    \n",
    "#    count+=1\n",
    "#print largest\n",
    "#print second_largest\n",
    "#print third_largest"
   ]
  },
  {
   "cell_type": "code",
   "execution_count": 2,
   "metadata": {
    "collapsed": false
   },
   "outputs": [
    {
     "name": "stdout",
     "output_type": "stream",
     "text": [
      "enter the number: 3\n",
      "-6.0\n"
     ]
    }
   ],
   "source": [
    "#question_15\n",
    "SUM=0\n",
    "number=input(\"enter the number: \")\n",
    "count=1\n",
    "while count<=number:\n",
    "    count_factorial=number\n",
    "    factorial=1\n",
    "    while count_factorial>0:\n",
    "        factorial=float(factorial*count_factorial)\n",
    "        count_factorial-=1\n",
    "    if count%2==0:\n",
    "        SUM+=float(1/factorial)\n",
    "    if count%2!=0:\n",
    "        SUM-=float(1/factorial)\n",
    "    count+=1\n",
    "print float(1/SUM)"
   ]
  },
  {
   "cell_type": "code",
   "execution_count": 78,
   "metadata": {
    "collapsed": false
   },
   "outputs": [
    {
     "ename": "ZeroDivisionError",
     "evalue": "integer division or modulo by zero",
     "output_type": "error",
     "traceback": [
      "\u001b[1;31m---------------------------------------------------------------------------\u001b[0m",
      "\u001b[1;31mZeroDivisionError\u001b[0m                         Traceback (most recent call last)",
      "\u001b[1;32m<ipython-input-78-ce22e3beb5c9>\u001b[0m in \u001b[0;36m<module>\u001b[1;34m()\u001b[0m\n\u001b[1;32m----> 1\u001b[1;33m \u001b[1;36m4\u001b[0m\u001b[1;33m%\u001b[0m\u001b[1;36m0\u001b[0m\u001b[1;33m\u001b[0m\u001b[0m\n\u001b[0m",
      "\u001b[1;31mZeroDivisionError\u001b[0m: integer division or modulo by zero"
     ]
    }
   ],
   "source": []
  }
 ],
 "metadata": {
  "kernelspec": {
   "display_name": "Python 2",
   "language": "python",
   "name": "python2"
  },
  "language_info": {
   "codemirror_mode": {
    "name": "ipython",
    "version": 2
   },
   "file_extension": ".py",
   "mimetype": "text/x-python",
   "name": "python",
   "nbconvert_exporter": "python",
   "pygments_lexer": "ipython2",
   "version": "2.7.10"
  }
 },
 "nbformat": 4,
 "nbformat_minor": 0
}
