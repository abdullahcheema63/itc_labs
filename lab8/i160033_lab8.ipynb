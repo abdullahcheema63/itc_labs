{
 "cells": [
  {
   "cell_type": "markdown",
   "metadata": {},
   "source": [
    "### ITC Lab 8  *(Loops, Lists and Nested Lists)*\n",
    "\n",
    "**Author : Atique Ur Rehman, Rafia Raheem**\n",
    "\n",
    "---"
   ]
  },
  {
   "cell_type": "markdown",
   "metadata": {},
   "source": [
    "**Note : **\n",
    "For Tasks including 1-D list, you can use : **ls = [4 7 3 4 3 5 4 8 9 1 8 8 1 4 3 8 3 9 8 9]**\n",
    "\n",
    "\n",
    "#### Q1 : Given a list, calculate its mean.\n",
    " $$\\begin{equation} mean = \\frac{\\sum_{i=1}^n  x^{(i)}}{n}\\end{equation}$$"
   ]
  },
  {
   "cell_type": "code",
   "execution_count": 27,
   "metadata": {
    "collapsed": false,
    "scrolled": true
   },
   "outputs": [
    {
     "name": "stdout",
     "output_type": "stream",
     "text": [
      "5.45\n"
     ]
    }
   ],
   "source": [
    "#question_1\n",
    "list1=[4,7,3,4,3,5,4,8,9,1,8,8,1,4,3,8,3,9,8,9]\n",
    "i=0\n",
    "sum1=0.00\n",
    "while i<len(list1):\n",
    "    sum1+=list1[i]\n",
    "    i+=1\n",
    "print sum1/len(list1)"
   ]
  },
  {
   "cell_type": "markdown",
   "metadata": {},
   "source": [
    "#### Q2 : Given a list, calculate its stendatd deviation using the formula :\n",
    "$$\\begin{equation} std.dev = \\frac{ \\sum_{i=1}^n  (x^{(i)}- mean)^2 }{n}\\end{equation}$$"
   ]
  },
  {
   "cell_type": "code",
   "execution_count": 28,
   "metadata": {
    "collapsed": false
   },
   "outputs": [
    {
     "name": "stdout",
     "output_type": "stream",
     "text": [
      "7.2475\n"
     ]
    }
   ],
   "source": [
    "#question2\n",
    "list1=[4,7,3,4,3,5,4,8,9,1,8,8,1,4,3,8,3,9,8,9]\n",
    "mean_control=0\n",
    "sum1=0.00\n",
    "while mean_control<len(list1):\n",
    "    sum1+=list1[mean_control]\n",
    "    mean_control+=1\n",
    "mean=sum1/len(list1)\n",
    "std_control=0\n",
    "std_numerator=0\n",
    "while std_control<len(list1):\n",
    "    std_numerator+=((list1[std_control]-mean)**2)\n",
    "    std_control+=1\n",
    "std=std_numerator/len(list1)\n",
    "print std"
   ]
  },
  {
   "cell_type": "markdown",
   "metadata": {},
   "source": [
    "#### Q3 : Given two lists, calculate their dot product.\n",
    "$$\\begin{equation} A.B = \\sum_{i=1}^n  A^{i}* B^{i}\\end{equation}$$"
   ]
  },
  {
   "cell_type": "code",
   "execution_count": 29,
   "metadata": {
    "collapsed": false
   },
   "outputs": [
    {
     "name": "stdout",
     "output_type": "stream",
     "text": [
      "739.0\n"
     ]
    }
   ],
   "source": [
    "#question_3\n",
    "list1=[4,7,3,4,3,5,4,8,9,1,8,8,1,4,3,8,3,9,8,9]\n",
    "list2=[4,7,3,4,3,5,4,8,9,1,8,8,1,4,3,8,3,9,8,9]\n",
    "dot_product=0.00\n",
    "dot_index=0\n",
    "while dot_index<len(list1):\n",
    "    dot_product+=list1[dot_index]*list2[dot_index]\n",
    "    dot_index+=1\n",
    "print dot_product"
   ]
  },
  {
   "cell_type": "markdown",
   "metadata": {},
   "source": [
    "#### Q4 : Given a list calculate its norm \n",
    "$$\\begin{equation} norm(X) = \\sqrt{\\sum_{i=1}^n  x^{i} * x^{i} } \\end{equation}$$"
   ]
  },
  {
   "cell_type": "code",
   "execution_count": 30,
   "metadata": {
    "collapsed": false
   },
   "outputs": [
    {
     "name": "stdout",
     "output_type": "stream",
     "text": [
      "27.1845544381\n"
     ]
    }
   ],
   "source": [
    "#question_4\n",
    "list1=[4,7,3,4,3,5,4,8,9,1,8,8,1,4,3,8,3,9,8,9]\n",
    "index=0\n",
    "root_factor=0.0\n",
    "while index<len(list1):\n",
    "    root_factor+=list1[index]*list1[index]\n",
    "    index+=1\n",
    "print root_factor**0.5"
   ]
  },
  {
   "cell_type": "markdown",
   "metadata": {},
   "source": [
    "#### Q5 :  Given an input n generate a nested list (list of lists) of the form : \n",
    "[[1,1,1,1....., n-terms],\n",
    "\n",
    "[2,2,2,2,....., n-terms],\n",
    "\n",
    "[3,3,3,3,....., n-terms],\n",
    "\n",
    "[4,4,4,4,....., n-terms],\n",
    "\n",
    "...\n",
    "\n",
    "[n,n,n,n....., n-terms]]"
   ]
  },
  {
   "cell_type": "code",
   "execution_count": 14,
   "metadata": {
    "collapsed": false
   },
   "outputs": [
    {
     "name": "stdout",
     "output_type": "stream",
     "text": [
      "5\n",
      "[1, 1, 1, 1, 1]\n",
      "[2, 2, 2, 2, 2]\n",
      "[3, 3, 3, 3, 3]\n",
      "[4, 4, 4, 4, 4]\n",
      "[5, 5, 5, 5, 5]\n"
     ]
    }
   ],
   "source": [
    "#question_5\n",
    "n=input(\"\")\n",
    "mainList=[]\n",
    "innerList=[]\n",
    "index=1\n",
    "while index<=n:\n",
    "    innerList=[index,index,index,index,index]\n",
    "    mainList.append(innerList)\n",
    "    index+=1\n",
    "k=0\n",
    "while k<len(mainList):\n",
    "    print mainList[k]\n",
    "    k+=1"
   ]
  },
  {
   "cell_type": "markdown",
   "metadata": {},
   "source": [
    "#### Q6 : Given a list, reverse it's elements using a loop."
   ]
  },
  {
   "cell_type": "code",
   "execution_count": 44,
   "metadata": {
    "collapsed": false
   },
   "outputs": [
    {
     "name": "stdout",
     "output_type": "stream",
     "text": [
      "[9, 8, 9, 3, 8, 3, 4, 1, 8, 8, 1, 9, 8, 4, 5, 3, 4, 3, 7, 4]\n"
     ]
    }
   ],
   "source": [
    "#question_6\n",
    "list1=[4,7,3,4,3,5,4,8,9,1,8,8,1,4,3,8,3,9,8,9]\n",
    "list2=[0,0,0,0,0,0,0,0,0,0,0,0,0,0,0,0,0,0,0,0]\n",
    "i=0\n",
    "j=len(list1)-1\n",
    "while i<len(list1):\n",
    "    list2[j]=list1[i]\n",
    "    i+=1\n",
    "    j-=1\n",
    "print list2"
   ]
  },
  {
   "cell_type": "markdown",
   "metadata": {},
   "source": [
    "#### Q7 : Given the following two 10x10 nested lists, calculate their sum and save in a new list.\n",
    "listA = [[4 5 2 0 5]\n",
    "\n",
    " [4 9 9 2 1]\n",
    " \n",
    " [6 1 2 9 0]\n",
    " \n",
    " [8 4 6 1 3]\n",
    " \n",
    " [5 5 6 0 0]]\n",
    " \n",
    " \n",
    " \n",
    "listB= [[6 3 3 7 7]\n",
    "\n",
    " [0 5 8 3 4]\n",
    " \n",
    " [0 4 8 4 7]\n",
    " \n",
    " [0 4 8 6 9]\n",
    " \n",
    " [4 4 2 5 0]]"
   ]
  },
  {
   "cell_type": "code",
   "execution_count": 60,
   "metadata": {
    "collapsed": false
   },
   "outputs": [
    {
     "name": "stdout",
     "output_type": "stream",
     "text": [
      "[10, 8, 5, 7, 12]\n",
      "[4, 14, 17, 5, 5]\n",
      "[6, 5, 10, 13, 7]\n",
      "[8, 8, 14, 7, 12]\n",
      "[9, 9, 8, 5, 0]\n"
     ]
    }
   ],
   "source": [
    "result=[[0,0,0,0,0],[0,0,0,0,0],[0,0,0,0,0],[0,0,0,0,0],[0,0,0,0,0]]\n",
    "listA = [[4,5,2,0,5],\n",
    "[4,9,9,2,1],\n",
    "[6,1,2,9,0],\n",
    "[8,4,6,1,3],\n",
    "[5,5,6,0,0]]\n",
    "listB= [[6,3,3,7,7],\n",
    "[0,5,8,3,4],\n",
    "[0,4,8,4,7],\n",
    "[0,4,8,6,9],\n",
    "[4,4,2,5,0]]\n",
    "i=0\n",
    "j=0\n",
    "while i<len(listA):\n",
    "    j=0\n",
    "    while j<len(listA[i]):\n",
    "        result[i][j]=listA[i][j]+listB[i][j]\n",
    "        j+=1\n",
    "    i+=1\n",
    "k=0\n",
    "while k<len(result):\n",
    "    print result[k]\n",
    "    k+=1"
   ]
  },
  {
   "cell_type": "markdown",
   "metadata": {},
   "source": [
    "#### Q 8.1 : Given a list and two index i and j, swap the elements at these index"
   ]
  },
  {
   "cell_type": "code",
   "execution_count": null,
   "metadata": {
    "collapsed": true
   },
   "outputs": [],
   "source": [
    "list1=[4,7,3,4,3,5,4,8,9,1,8,8,1,4,3,8,3,9,8,9]\n",
    "i=input(\"enter i: \")\n",
    "j=input(\"enter j: \")\n",
    "temp=list1[i]\n",
    "list1[i]=list1[j]\n",
    "list1[j]=temp"
   ]
  },
  {
   "cell_type": "markdown",
   "metadata": {},
   "source": [
    "#### Q 8.2 : Write a loop to iterate over all the elements of a list and swap it's consective elements"
   ]
  },
  {
   "cell_type": "code",
   "execution_count": 20,
   "metadata": {
    "collapsed": false
   },
   "outputs": [
    {
     "name": "stdout",
     "output_type": "stream",
     "text": [
      "[4, 5, 76, 2, 6, 8, 9, 2]\n"
     ]
    }
   ],
   "source": [
    "list1=[4,7,3,4,3,5,4,8,9,1,8,8,1,4,3,8,3,9,8,9]\n",
    "i=0\n",
    "while i<len(list1)-1:\n",
    "    temp=list1[i]\n",
    "    list1[i]=list1[i+1]\n",
    "    list1[i+1]=temp\n",
    "    i+=1\n",
    "print list1"
   ]
  },
  {
   "cell_type": "markdown",
   "metadata": {},
   "source": [
    "#### Q 8.3 : Modify the previous task and now swap the consective elements only if thay are not in accending order."
   ]
  },
  {
   "cell_type": "code",
   "execution_count": 6,
   "metadata": {
    "collapsed": false
   },
   "outputs": [
    {
     "name": "stdout",
     "output_type": "stream",
     "text": [
      "[4, 3, 4, 3, 5, 4, 7, 8, 1, 8, 8, 1, 4, 3, 8, 3, 9, 8, 9, 9]\n"
     ]
    }
   ],
   "source": [
    "list1=[4,7,3,4,3,5,4,8,9,1,8,8,1,4,3,8,3,9,8,9]\n",
    "i=0\n",
    "while i<len(list1)-1:\n",
    "    if list1[i]>list1[i+1]:\n",
    "        temp=list1[i]\n",
    "        list1[i]=list1[i+1]\n",
    "        list1[i+1]=temp\n",
    "    i+=1\n",
    "print list1"
   ]
  },
  {
   "cell_type": "markdown",
   "metadata": {},
   "source": [
    "#### Q 8.4 : Modify the previous and add anouther nested loop so that the current task is executed n times, where n is the length of list."
   ]
  },
  {
   "cell_type": "code",
   "execution_count": 7,
   "metadata": {
    "collapsed": false
   },
   "outputs": [
    {
     "name": "stdout",
     "output_type": "stream",
     "text": [
      "[1, 1, 3, 3, 3, 3, 4, 4, 4, 4, 5, 7, 8, 8, 8, 8, 8, 9, 9, 9]\n"
     ]
    }
   ],
   "source": [
    "list1=[4,7,3,4,3,5,4,8,9,1,8,8,1,4,3,8,3,9,8,9]\n",
    "j=0\n",
    "while j<len(list1):\n",
    "    i=0\n",
    "    while i<len(list1)-1:\n",
    "        if list1[i]>list1[i+1]:\n",
    "            temp=list1[i]\n",
    "            list1[i]=list1[i+1]\n",
    "            list1[i+1]=temp\n",
    "        i+=1\n",
    "    j+=1\n",
    "print list1"
   ]
  },
  {
   "cell_type": "markdown",
   "metadata": {},
   "source": [
    "#### Congragulations You have just implement \"Bubble Sort\" a famous sorting technique. If your code is correct, it should sort any atbitrary list in accending order.\n",
    "----"
   ]
  },
  {
   "cell_type": "markdown",
   "metadata": {},
   "source": [
    "#### Q 9 : Use the lists provided in task 7. Store the transpose of ListA in ListB"
   ]
  },
  {
   "cell_type": "code",
   "execution_count": 8,
   "metadata": {
    "collapsed": false
   },
   "outputs": [
    {
     "name": "stdout",
     "output_type": "stream",
     "text": [
      "[4, 4, 6, 8, 5]\n",
      "[5, 9, 1, 4, 5]\n",
      "[2, 9, 2, 6, 6]\n",
      "[0, 2, 9, 1, 0]\n",
      "[5, 1, 0, 3, 0]\n"
     ]
    }
   ],
   "source": [
    "#question_9\n",
    "listA = [[4,5,2,0,5],\n",
    "[4,9,9,2,1],\n",
    "[6,1,2,9,0],\n",
    "[8,4,6,1,3],\n",
    "[5,5,6,0,0]]\n",
    "listB= [[6,3,3,7,7],\n",
    "[0,5,8,3,4],\n",
    "[0,4,8,4,7],\n",
    "[0,4,8,6,9],\n",
    "[4,4,2,5,0]]\n",
    "i=0\n",
    "j=0\n",
    "while i<len(listA):\n",
    "    j=0\n",
    "    while j<len(listA[i]):\n",
    "        listB[j][i]=listA[i][j]\n",
    "        j+=1\n",
    "    i+=1\n",
    "k=0\n",
    "while k<len(listB):\n",
    "    print listB[k]\n",
    "    k+=1"
   ]
  },
  {
   "cell_type": "markdown",
   "metadata": {},
   "source": [
    "#### Q 10 : Calculate the element wise product of ListA with it's transpose."
   ]
  },
  {
   "cell_type": "code",
   "execution_count": 10,
   "metadata": {
    "collapsed": false,
    "scrolled": true
   },
   "outputs": [
    {
     "name": "stdout",
     "output_type": "stream",
     "text": [
      "[16, 80, 32, 0, 80]\n",
      "[36, 81, 729, 162, 81]\n",
      "[12, 2, 4, 36, 0]\n",
      "[8, 4, 6, 1, 3]\n",
      "[0, 0, 0, 0, 0]\n"
     ]
    }
   ],
   "source": [
    "listA = [[4,5,2,0,5],\n",
    "[4,9,9,2,1],\n",
    "[6,1,2,9,0],\n",
    "[8,4,6,1,3],\n",
    "[5,5,6,0,0]]\n",
    "transpose= [[0,0,0,0,0],\n",
    "[0,0,0,0,0],\n",
    "[0,0,0,0,0],\n",
    "[0,0,0,0,0],\n",
    "[0,0,0,0,0]]\n",
    "result=transpose\n",
    "i=0\n",
    "j=0\n",
    "while i<len(listA):\n",
    "    j=0\n",
    "    while j<len(listA[i]):\n",
    "        transpose[j][i]=listA[i][j]\n",
    "        j+=1\n",
    "    i+=1\n",
    "i=0\n",
    "j=0\n",
    "while i<len(listA):\n",
    "    j=0\n",
    "    while j<len(listA[i]):\n",
    "        result[i][j]=listA[i][j]*transpose[i][i]\n",
    "        j+=1\n",
    "    i+=1\n",
    "k=0\n",
    "while k<len(result):\n",
    "    print result[k]\n",
    "    k+=1"
   ]
  },
  {
   "cell_type": "markdown",
   "metadata": {},
   "source": [
    "#### Q 11 : Given a list of marks, Assign Grage to each student using the following stategy :\n",
    "- A if :  marks > mean + std.dev\n",
    "- B if : mean < marks < (mean + std.dev)\n",
    "- C if : (mean - std.dev) < marks < mean\n",
    "- F if : marks < (mean - std.dev)"
   ]
  },
  {
   "cell_type": "code",
   "execution_count": 17,
   "metadata": {
    "collapsed": false
   },
   "outputs": [
    {
     "name": "stdout",
     "output_type": "stream",
     "text": [
      "enter the number of student to check grade2\n",
      "B\n"
     ]
    }
   ],
   "source": [
    "list1=[4,7,3,4,3,5,4,8,9,1,8,8,1,4,3,8,3,9,8,9]\n",
    "i=0\n",
    "sum1=0.00\n",
    "while i<len(list1):\n",
    "    sum1+=list1[i]\n",
    "    i+=1\n",
    "mean=sum1/len(list1)\n",
    "std_control=0\n",
    "std_numerator=0\n",
    "while std_control<len(list1):\n",
    "    std_numerator+=((list1[std_control]-mean)**2)\n",
    "    std_control+=1\n",
    "std=std_numerator/len(list1)\n",
    "number=input(\"enter the number of student to check grade: \")\n",
    "if list1[number-1]>mean+std:\n",
    "    grade=\"A\"\n",
    "elif mean<list1[number-1]<(mean+std):\n",
    "    grade=\"B\"\n",
    "elif (mean-std)<list1[number-1]<mean:\n",
    "    grade=\"C\"\n",
    "elif list1[number-1]<(mean-std):\n",
    "    grade=\"F\"\n",
    "print grade"
   ]
  },
  {
   "cell_type": "markdown",
   "metadata": {},
   "source": [
    "#### Q 12 : Using the list ListA in task 7, calculate the sum accross rows and store it in another list."
   ]
  },
  {
   "cell_type": "code",
   "execution_count": 11,
   "metadata": {
    "collapsed": false
   },
   "outputs": [
    {
     "name": "stdout",
     "output_type": "stream",
     "text": [
      "[16, 25, 18, 22, 16]\n"
     ]
    }
   ],
   "source": [
    "listA = [[4,5,2,0,5],\n",
    "[4,9,9,2,1],\n",
    "[6,1,2,9,0],\n",
    "[8,4,6,1,3],\n",
    "[5,5,6,0,0]]\n",
    "sumList=[]\n",
    "index=0\n",
    "while index<len(listA):\n",
    "    index2=0\n",
    "    sumOfRow=0\n",
    "    while index2<len(listA[index]):\n",
    "        sumOfRow+=listA[index][index2]\n",
    "        index2+=1\n",
    "    sumList.append(sumOfRow)\n",
    "    index+=1\n",
    "print sumList"
   ]
  },
  {
   "cell_type": "markdown",
   "metadata": {},
   "source": [
    "#### Q 13 : Repeat the above task but this time calculate sum accross coloumns."
   ]
  },
  {
   "cell_type": "code",
   "execution_count": 16,
   "metadata": {
    "collapsed": false
   },
   "outputs": [
    {
     "name": "stdout",
     "output_type": "stream",
     "text": [
      "[27, 24, 25, 12, 9]\n"
     ]
    }
   ],
   "source": [
    "listA = [[4,5,2,0,5],\n",
    "[4,9,9,2,1],\n",
    "[6,1,2,9,0],\n",
    "[8,4,6,1,3],\n",
    "[5,5,6,0,0]]\n",
    "sumList=[]\n",
    "column=0\n",
    "row=0\n",
    "sumOfColumn=0\n",
    "while column<len(listA[0]):\n",
    "    row=0\n",
    "    sumOfColumn=0\n",
    "    while row<len(listA):\n",
    "        sumOfColumn+=listA[row][column]\n",
    "        row+=1\n",
    "    sumList.append(sumOfColumn)\n",
    "    column+=1\n",
    "print sumList    "
   ]
  }
 ],
 "metadata": {
  "anaconda-cloud": {},
  "kernelspec": {
   "display_name": "Python [default]",
   "language": "python",
   "name": "python2"
  },
  "language_info": {
   "codemirror_mode": {
    "name": "ipython",
    "version": 2
   },
   "file_extension": ".py",
   "mimetype": "text/x-python",
   "name": "python",
   "nbconvert_exporter": "python",
   "pygments_lexer": "ipython2",
   "version": "2.7.12"
  }
 },
 "nbformat": 4,
 "nbformat_minor": 0
}
