{
 "cells": [
  {
   "cell_type": "markdown",
   "metadata": {},
   "source": [
    "### ITC Lab 8  *(Loops, Lists and Nested Lists)*\n",
    "\n",
    "**Author : Atique Ur Rehman, Rafia Raheem**\n",
    "\n",
    "---"
   ]
  },
  {
   "cell_type": "markdown",
   "metadata": {},
   "source": [
    "**Note : **\n",
    "For Tasks including 1-D list, you can use : **ls = [4 7 3 4 3 5 4 8 9 1 8 8 1 4 3 8 3 9 8 9]**\n",
    "\n",
    "\n",
    "#### Q1 : Given a list, calculate its mean.\n",
    " $$\\begin{equation} mean = \\frac{\\sum_{i=1}^n  x^{(i)}}{n}\\end{equation}$$"
   ]
  },
  {
   "cell_type": "code",
   "execution_count": null,
   "metadata": {
    "collapsed": false
   },
   "outputs": [],
   "source": []
  },
  {
   "cell_type": "markdown",
   "metadata": {},
   "source": [
    "#### Q2 : Given a list, calculate its stendatd deviation using the formula :\n",
    "$$\\begin{equation} std.dev = \\frac{ \\sum_{i=1}^n  (x^{(i)}- mean)^2 }{n}\\end{equation}$$"
   ]
  },
  {
   "cell_type": "code",
   "execution_count": null,
   "metadata": {
    "collapsed": true
   },
   "outputs": [],
   "source": []
  },
  {
   "cell_type": "markdown",
   "metadata": {},
   "source": [
    "#### Q3 : Given two lists, calculate their dot product.\n",
    "$$\\begin{equation} A.B = \\sum_{i=1}^n  A^{i}* B^{i}\\end{equation}$$"
   ]
  },
  {
   "cell_type": "code",
   "execution_count": null,
   "metadata": {
    "collapsed": true
   },
   "outputs": [],
   "source": []
  },
  {
   "cell_type": "markdown",
   "metadata": {},
   "source": [
    "#### Q4 : Given a list calculate its norm \n",
    "$$\\begin{equation} norm(X) = \\sqrt{\\sum_{i=1}^n  x^{i} * x^{i} } \\end{equation}$$"
   ]
  },
  {
   "cell_type": "code",
   "execution_count": null,
   "metadata": {
    "collapsed": true
   },
   "outputs": [],
   "source": []
  },
  {
   "cell_type": "markdown",
   "metadata": {},
   "source": [
    "#### Q5 :  Given an input n generate a nested list (list of lists) of the form : \n",
    "[[1,1,1,1....., n-terms],\n",
    "\n",
    "[2,2,2,2,....., n-terms],\n",
    "\n",
    "[3,3,3,3,....., n-terms],\n",
    "\n",
    "[4,4,4,4,....., n-terms],\n",
    "\n",
    "...\n",
    "\n",
    "[n,n,n,n....., n-terms]]"
   ]
  },
  {
   "cell_type": "code",
   "execution_count": null,
   "metadata": {
    "collapsed": false
   },
   "outputs": [],
   "source": []
  },
  {
   "cell_type": "markdown",
   "metadata": {},
   "source": [
    "#### Q6 : Given a list, reverse it's elements using a loop."
   ]
  },
  {
   "cell_type": "code",
   "execution_count": null,
   "metadata": {
    "collapsed": true
   },
   "outputs": [],
   "source": []
  },
  {
   "cell_type": "markdown",
   "metadata": {},
   "source": [
    "#### Q7 : Given the following two 10x10 nested lists, calculate their sum and save in a new list.\n",
    "listA = [[4 5 2 0 5]\n",
    "\n",
    " [4 9 9 2 1]\n",
    " \n",
    " [6 1 2 9 0]\n",
    " \n",
    " [8 4 6 1 3]\n",
    " \n",
    " [5 5 6 0 0]]\n",
    " \n",
    " \n",
    " \n",
    "listB= [[6 3 3 7 7]\n",
    "\n",
    " [0 5 8 3 4]\n",
    " \n",
    " [0 4 8 4 7]\n",
    " \n",
    " [0 4 8 6 9]\n",
    " \n",
    " [4 4 2 5 0]]"
   ]
  },
  {
   "cell_type": "code",
   "execution_count": null,
   "metadata": {
    "collapsed": true
   },
   "outputs": [],
   "source": []
  },
  {
   "cell_type": "markdown",
   "metadata": {},
   "source": [
    "#### Q 8.1 : Given a list and two index i and j, swap the elements at these index"
   ]
  },
  {
   "cell_type": "code",
   "execution_count": null,
   "metadata": {
    "collapsed": true
   },
   "outputs": [],
   "source": []
  },
  {
   "cell_type": "markdown",
   "metadata": {},
   "source": [
    "#### Q 8.2 : Write a loop to iterate over all the elements of a list and swap it's consective elements"
   ]
  },
  {
   "cell_type": "code",
   "execution_count": null,
   "metadata": {
    "collapsed": true
   },
   "outputs": [],
   "source": []
  },
  {
   "cell_type": "markdown",
   "metadata": {},
   "source": [
    "#### Q 8.3 : Modify the previous task and now swap the consective elements only if thay are not in accending order."
   ]
  },
  {
   "cell_type": "code",
   "execution_count": null,
   "metadata": {
    "collapsed": true
   },
   "outputs": [],
   "source": []
  },
  {
   "cell_type": "markdown",
   "metadata": {},
   "source": [
    "#### Q 8.4 : Modify the previous and add anouther nested loop so that the current task is executed n times, where n is the length of list."
   ]
  },
  {
   "cell_type": "code",
   "execution_count": null,
   "metadata": {
    "collapsed": true
   },
   "outputs": [],
   "source": []
  },
  {
   "cell_type": "markdown",
   "metadata": {},
   "source": [
    "#### Congragulations You have just implement \"Bubble Sort\" a famous sorting technique. If your code is correct, it should sort any atbitrary list in accending order.\n",
    "----"
   ]
  },
  {
   "cell_type": "markdown",
   "metadata": {},
   "source": [
    "#### Q 9 : Use the lists provided in task 7. Store the transpose of ListA in ListB"
   ]
  },
  {
   "cell_type": "code",
   "execution_count": null,
   "metadata": {
    "collapsed": true
   },
   "outputs": [],
   "source": []
  },
  {
   "cell_type": "markdown",
   "metadata": {},
   "source": [
    "#### Q 10 : Calculate the element wise product of ListA with it's transpose."
   ]
  },
  {
   "cell_type": "code",
   "execution_count": null,
   "metadata": {
    "collapsed": true
   },
   "outputs": [],
   "source": []
  },
  {
   "cell_type": "markdown",
   "metadata": {},
   "source": [
    "#### Q 11 : Given a list of marks, Assign Grage to each student using the following stategy :\n",
    "- A if :  marks > mean + std.dev\n",
    "- B if : mean < marks < (mean + std.dev)\n",
    "- C if : (mean - std.dev) < marks < mean\n",
    "- F if : marks < (mean - std.dev)"
   ]
  },
  {
   "cell_type": "code",
   "execution_count": null,
   "metadata": {
    "collapsed": true
   },
   "outputs": [],
   "source": []
  },
  {
   "cell_type": "markdown",
   "metadata": {},
   "source": [
    "#### Q 12 : Using the list ListA in task 7, calculate the sum accross rows and store it in another list."
   ]
  },
  {
   "cell_type": "code",
   "execution_count": null,
   "metadata": {
    "collapsed": true
   },
   "outputs": [],
   "source": []
  },
  {
   "cell_type": "markdown",
   "metadata": {},
   "source": [
    "#### Q 13 : Repeat the above task but this time calculate sum accross coloumns."
   ]
  },
  {
   "cell_type": "code",
   "execution_count": null,
   "metadata": {
    "collapsed": true
   },
   "outputs": [],
   "source": []
  },
  {
   "cell_type": "markdown",
   "metadata": {},
   "source": [
    "#### To be continued ..."
   ]
  }
 ],
 "metadata": {
  "kernelspec": {
   "display_name": "Python 2",
   "language": "python",
   "name": "python2"
  },
  "language_info": {
   "codemirror_mode": {
    "name": "ipython",
    "version": 2
   },
   "file_extension": ".py",
   "mimetype": "text/x-python",
   "name": "python",
   "nbconvert_exporter": "python",
   "pygments_lexer": "ipython2",
   "version": "2.7.12"
  }
 },
 "nbformat": 4,
 "nbformat_minor": 0
}
