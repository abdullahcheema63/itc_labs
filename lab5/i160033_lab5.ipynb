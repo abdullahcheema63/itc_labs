{
 "cells": [
  {
   "cell_type": "code",
   "execution_count": null,
   "metadata": {
    "collapsed": false
   },
   "outputs": [],
   "source": [
    "#question_1\n",
    "num1=input(\"enter first number: \")\n",
    "num2=input(\"enter second number: \")\n",
    "if num1<num2:\n",
    "    print (\"\\nthe greater number is \"+str(num2))\n",
    "elif num1>num2:\n",
    "    print (\"\\nthe greater number is \"+str(num1))\n",
    "elif num1==num2:\n",
    "    print(\"\\nthe numbers are equal\")"
   ]
  },
  {
   "cell_type": "code",
   "execution_count": null,
   "metadata": {
    "collapsed": false
   },
   "outputs": [],
   "source": [
    "#question_2\n",
    "num1=input(\"enter first number: \")\n",
    "num2=input(\"enter second number: \")\n",
    "num3=input(\"enter third number: \")\n",
    "if num1>num2 and num1>num3:\n",
    "    print (\"the greatest number is \"+str(num1))\n",
    "elif num2>num1 and num2>num3:\n",
    "    print(\"the greatest number is \"+str(num2))\n",
    "elif num3>num1 and num3>num2:\n",
    "    print (\"the greatest number is \"+str(num3))"
   ]
  },
  {
   "cell_type": "code",
   "execution_count": null,
   "metadata": {
    "collapsed": false
   },
   "outputs": [],
   "source": [
    "#question_3\n",
    "num1=input(\"enter first number: \")\n",
    "num2=input(\"enter second number: \")\n",
    "if num1>=num2:\n",
    "    print (str(num2)+\"\\n\"+str(num1))\n",
    "elif num2>=num1:\n",
    "    print (str(num1)+\"\\n\"+str(num2))\n"
   ]
  },
  {
   "cell_type": "code",
   "execution_count": null,
   "metadata": {
    "collapsed": false
   },
   "outputs": [],
   "source": [
    "#question_4\n",
    "num1=input(\"enter first number: \")\n",
    "num2=input(\"enter second number: \")\n",
    "num3=input(\"enter third number: \")\n",
    "if num1>num2 and num1>num3:\n",
    "    if num2>num3:\n",
    "        print (str(num3)+\"\\n\"+str(num2)+\"\\n\"+str(num1))\n",
    "    elif num3>num2:\n",
    "        print (str(num2)+\"\\n\"+str(num3)+\"\\n\"+str(num1))\n",
    "elif num2>num1 and num2>num3:\n",
    "    if num1>num3:\n",
    "        print (str(num3)+\"\\n\"+str(num1)+\"\\n\"+str(num2))\n",
    "    elif num3>num1:\n",
    "        print (str(num1)+\"\\n\"+str(num3)+\"\\n\"+str(num2))\n",
    "elif num3>num1 and num3>num2:\n",
    "    if num2>num1:\n",
    "        print (str(num1)+\"\\n\"+str(num2)+\"\\n\"+str(num3))\n",
    "    elif num1>num2:\n",
    "        print (str(num2)+\"\\n\"+str(num1)+\"\\n\"+str(num3))"
   ]
  },
  {
   "cell_type": "code",
   "execution_count": null,
   "metadata": {
    "collapsed": false
   },
   "outputs": [],
   "source": [
    "#question_5\n",
    "num1=input(\"enter first number: \")\n",
    "num2=input(\"enter second number: \")\n",
    "if num1<num2:\n",
    "    print (\"\\nthe smallest number is \"+str(num1))\n",
    "elif num1>num2:\n",
    "    print (\"\\nthe smallest number is \"+str(num2))\n",
    "elif num1==num2:\n",
    "    print(\"\\nthe numbers are equal\")"
   ]
  },
  {
   "cell_type": "code",
   "execution_count": null,
   "metadata": {
    "collapsed": true
   },
   "outputs": [],
   "source": [
    "#question_6\n",
    "num1=input(\"enter first number: \")\n",
    "num2=input(\"enter second number: \")\n",
    "num3=input(\"enter third number: \")\n",
    "if num1<num2 and num1<num3:\n",
    "    print (\"the smallest number is \"+str(num1))\n",
    "elif num2<num1 and num2<num3:\n",
    "    print(\"the smallest number is \"+str(num2))\n",
    "elif num3<num1 and num3<num2:\n",
    "    print (\"the smallest number is \"+str(num3))"
   ]
  },
  {
   "cell_type": "code",
   "execution_count": null,
   "metadata": {
    "collapsed": false
   },
   "outputs": [],
   "source": [
    "#question_7\n",
    "num1=input(\"enter first number: \")\n",
    "num2=input(\"enter second number: \")\n",
    "if num1>=num2:\n",
    "    print (str(num1)+\"\\n\"+str(num2))\n",
    "elif num2>=num1:\n",
    "    print (str(num2)+\"\\n\"+str(num1))"
   ]
  },
  {
   "cell_type": "code",
   "execution_count": null,
   "metadata": {
    "collapsed": false
   },
   "outputs": [],
   "source": [
    "#question_8\n",
    "num1=input(\"enter first number: \")\n",
    "num2=input(\"enter second number: \")\n",
    "num3=input(\"enter third number: \")\n",
    "if num1>=num2 and num1>=num3:\n",
    "    if num2>=num3:\n",
    "        print (str(num1)+\"\\n\"+str(num2)+\"\\n\"+str(num3))\n",
    "    elif num3>=num2:\n",
    "        print (str(num1)+\"\\n\"+str(num3)+\"\\n\"+str(num2))\n",
    "elif num2>=num1 and num2>=num3:\n",
    "    if num1>=num3:\n",
    "        print (str(num2)+\"\\n\"+str(num1)+\"\\n\"+str(num3))\n",
    "    elif num3>=num1:\n",
    "        print (str(num2)+\"\\n\"+str(num3)+\"\\n\"+str(num1))\n",
    "elif num3>=num1 and num3>=num2:\n",
    "    if num2>=num1:\n",
    "        print (str(num3)+\"\\n\"+str(num2)+\"\\n\"+str(num1))\n",
    "    elif num1>=num2:\n",
    "        print (str(num3)+\"\\n\"+str(num1)+\"\\n\"+str(num2))"
   ]
  },
  {
   "cell_type": "code",
   "execution_count": null,
   "metadata": {
    "collapsed": false
   },
   "outputs": [],
   "source": [
    "#question_9\n",
    "num1=input(\"enter first number: \")\n",
    "num2=input(\"enter second number: \")\n",
    "num3=input(\"enter third number: \")\n",
    "print(\"the average is: \"+str((num1+num2+num3)/3))"
   ]
  },
  {
   "cell_type": "code",
   "execution_count": null,
   "metadata": {
    "collapsed": false
   },
   "outputs": [],
   "source": [
    "#question_10\n",
    "marks=input(\"enter your marks: \")\n",
    "if marks>=90:\n",
    "    print(\"your grade is A+\")\n",
    "elif marks>=80:\n",
    "    print(\"your grade is A\")\n",
    "elif marks>=70:\n",
    "    print(\"your grade is B\")\n",
    "elif marks>=60:\n",
    "    print(\"your grade is C\")\n",
    "elif marks>=50:\n",
    "    print(\"your grade is D\")\n",
    "elif marks<50:\n",
    "    print(\"your grade is F\")"
   ]
  },
  {
   "cell_type": "code",
   "execution_count": null,
   "metadata": {
    "collapsed": false
   },
   "outputs": [],
   "source": [
    "#question_11\n",
    "age=input(\"enter your age: \")\n",
    "if age>=65:\n",
    "    print (\"\\nYou are a senior citizen.\")\n",
    "elif age>=18:\n",
    "    print(\"\\nYou are an adult. \")\n",
    "else:\n",
    "    print(\"\\nYou are a child. \")"
   ]
  },
  {
   "cell_type": "code",
   "execution_count": null,
   "metadata": {
    "collapsed": false
   },
   "outputs": [],
   "source": [
    "#question_12\n",
    "while True:\n",
    "    num1=input(\"enter first number: \")\n",
    "    num2=input(\"enter second number: \")\n",
    "    operation=str(raw_input(\"enter + - * / operation you want to perform: \"))\n",
    "    if operation==\"+\":\n",
    "        print (\"the sum is \"+str(num1+num2))\n",
    "    elif operation==\"-\":\n",
    "        print (\"the difference is \"+str(num1-num2))\n",
    "    elif operation==\"*\":\n",
    "        print (\"the sum product \"+str(num1*num2))\n",
    "    elif operation==\"/\":\n",
    "        print (\"the quotient is \"+str(num1/num2))\n",
    "    else:\n",
    "        print(\"please enter correct operation\")\n"
   ]
  },
  {
   "cell_type": "code",
   "execution_count": null,
   "metadata": {
    "collapsed": true
   },
   "outputs": [],
   "source": [
    "#question_13\n",
    "number=input(\"enter a number: \")\n",
    "if number%2==0:\n",
    "    print (\"true\")\n",
    "else:\n",
    "    print(\"false\")"
   ]
  },
  {
   "cell_type": "code",
   "execution_count": 13,
   "metadata": {
    "collapsed": false
   },
   "outputs": [
    {
     "name": "stdout",
     "output_type": "stream",
     "text": [
      "please enter year to check: 2050\n",
      "year is not leap\n"
     ]
    }
   ],
   "source": [
    "#question_14\n",
    "year=input(\"please enter year to check: \")\n",
    "remainder=year%100\n",
    "if remainder!=0:\n",
    "    century=((year/100)+1)*100\n",
    "else:\n",
    "    century=year\n",
    "if year%4==0 and century%400==0:\n",
    "    print (\"year is leap\")\n",
    "else:\n",
    "    print (\"year is not leap\")"
   ]
  },
  {
   "cell_type": "code",
   "execution_count": null,
   "metadata": {
    "collapsed": false
   },
   "outputs": [],
   "source": [
    "#question_15\n",
    "hours=input(\"Enter working hours(-1 to end): \")\n",
    "if hours<0:\n",
    "    exit(0)\n",
    "hourly_salary=input(\"Enter the number of hours worked: \")\n",
    "if hours<=40:\n",
    "    final_salary=hours*hourly_salary\n",
    "elif hours>40:\n",
    "    final_salary=(40*hourly_salary)+((hours-40)*(hourly_salary*1.5))\n",
    "print (\"the salary is \"+str(final_salary))"
   ]
  },
  {
   "cell_type": "code",
   "execution_count": 6,
   "metadata": {
    "collapsed": false
   },
   "outputs": [
    {
     "name": "stdout",
     "output_type": "stream",
     "text": [
      "1505\n",
      "1540\n",
      "1575\n",
      "1610\n",
      "1645\n",
      "1680\n",
      "1715\n",
      "1750\n",
      "1785\n",
      "1820\n",
      "1855\n",
      "1890\n",
      "1925\n",
      "1960\n",
      "1995\n",
      "2030\n",
      "2065\n",
      "2100\n",
      "2135\n",
      "2170\n",
      "2205\n",
      "2240\n",
      "2275\n",
      "2310\n",
      "2345\n",
      "2380\n",
      "2415\n",
      "2450\n",
      "2485\n",
      "2520\n",
      "2555\n",
      "2590\n",
      "2625\n",
      "2660\n",
      "2695\n"
     ]
    }
   ],
   "source": [
    "#question_17\n",
    "count=1500\n",
    "while count<=2700:\n",
    "    if count%7==0 and count%5==0:\n",
    "        print count\n",
    "    count+=1\n"
   ]
  },
  {
   "cell_type": "code",
   "execution_count": 9,
   "metadata": {
    "collapsed": false
   },
   "outputs": [
    {
     "name": "stdout",
     "output_type": "stream",
     "text": [
      "enter speed: 64\n",
      "if its your birthday enter 1 else enter 0:1\n",
      "0\n"
     ]
    }
   ],
   "source": [
    "#question_18\n",
    "speed=input(\"enter speed: \")\n",
    "birthday=input(\"if its your birthday enter 1 else enter 0:\")\n",
    "no_ticket_speed=60\n",
    "small_ticket_speed=80\n",
    "if birthday==1:\n",
    "    no_ticket_speed=65\n",
    "    small_ticket_speed=85\n",
    "if speed<=no_ticket_speed:\n",
    "    print(\"0\")\n",
    "elif speed<=small_ticket_speed:\n",
    "    print (\"1\")\n",
    "elif speed>small_ticket_speed:\n",
    "    print(\"2\")"
   ]
  },
  {
   "cell_type": "code",
   "execution_count": 11,
   "metadata": {
    "collapsed": false
   },
   "outputs": [
    {
     "name": "stdout",
     "output_type": "stream",
     "text": [
      "enter first number: 2\n",
      "enter second number: 2\n",
      "fasle\n"
     ]
    }
   ],
   "source": [
    "#question_19\n",
    "number1=input(\"enter first number: \")\n",
    "number2=input(\"enter second number: \")\n",
    "if (number1==6 or number2==6) or (number1+number2==6 or number1+number2==6):\n",
    "    print(\"True\")\n",
    "else:\n",
    "    print(\"Fasle\")"
   ]
  },
  {
   "cell_type": "code",
   "execution_count": 9,
   "metadata": {
    "collapsed": false
   },
   "outputs": [
    {
     "name": "stdout",
     "output_type": "stream",
     "text": [
      "enter the temperature: 55\n",
      "enter 1 if it is summer or enter 0 if its not: 5\n",
      "please input 1 or 0 only\n"
     ]
    }
   ],
   "source": [
    "#question_20\n",
    "temperature=input(\"enter the temperature: \")\n",
    "is_summer=input(\"enter 1 if it is summer or enter 0 if its not: \")\n",
    "if is_summer!=0 or is_summer!=1:\n",
    "    print(\"please input 1 or 0 only\")\n",
    "else:\n",
    "    upper_limit=90\n",
    "    if bool(is_summer)==True:\n",
    "        upper_limit=100\n",
    "    if 60<=temperature<=upper_limit:\n",
    "        print (\"True\")\n",
    "    else:\n",
    "        print(\"False\")"
   ]
  }
 ],
 "metadata": {
  "kernelspec": {
   "display_name": "Python 2",
   "language": "python",
   "name": "python2"
  },
  "language_info": {
   "codemirror_mode": {
    "name": "ipython",
    "version": 2
   },
   "file_extension": ".py",
   "mimetype": "text/x-python",
   "name": "python",
   "nbconvert_exporter": "python",
   "pygments_lexer": "ipython2",
   "version": "2.7.10"
  }
 },
 "nbformat": 4,
 "nbformat_minor": 0
}
